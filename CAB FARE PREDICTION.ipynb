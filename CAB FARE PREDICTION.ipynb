{
 "cells": [
  {
   "cell_type": "markdown",
   "metadata": {},
   "source": [
    "# Objective -\n",
    "### You are a cab rental start-up company. You have successfully run the pilot project and now want to launch your cab service across the country. You have collected the historical data from your pilot project and now have a requirement to apply analytics for fare prediction. You need to design a system that predicts the fare amount for a cab ride in the city."
   ]
  },
  {
   "cell_type": "code",
   "execution_count": 1,
   "metadata": {},
   "outputs": [],
   "source": [
    "# Importing required libraries. \n",
    "\n",
    "import os # input and output operations\n",
    "import pandas as pd # for data manipulation and analysis\n",
    "import numpy as np # used for data analysis\n",
    "import matplotlib.pyplot as plt # used for data visualizations\n",
    "import seaborn as sns # used for data visualizations\n",
    "from collections import Counter # used to keep track of elements and their count\n",
    "\n",
    "%matplotlib inline "
   ]
  },
  {
   "cell_type": "code",
   "execution_count": 2,
   "metadata": {},
   "outputs": [],
   "source": [
    "# Setting the working directory\n",
    "\n",
    "os.chdir(r\"C:\\Users\\Purushottam\\Desktop\\Data Science\\Cab Fare Prediction Project\")"
   ]
  },
  {
   "cell_type": "code",
   "execution_count": 3,
   "metadata": {},
   "outputs": [
    {
     "data": {
      "text/plain": [
       "'C:\\\\Users\\\\Purushottam\\\\Desktop\\\\Data Science\\\\Cab Fare Prediction Project'"
      ]
     },
     "execution_count": 3,
     "metadata": {},
     "output_type": "execute_result"
    }
   ],
   "source": [
    "# Checking the working directory\n",
    "\n",
    "os.getcwd()"
   ]
  },
  {
   "cell_type": "code",
   "execution_count": 4,
   "metadata": {},
   "outputs": [],
   "source": [
    "# Importing the data into Jupyter Environment\n",
    "# We are deleting row 1329 from the file because it has pickup_datetime value as 43.\n",
    "\n",
    "train_cab = pd.read_csv(\"train_cab.csv\", skiprows = [1328])"
   ]
  },
  {
   "cell_type": "markdown",
   "metadata": {},
   "source": [
    "## Let's interact with our data"
   ]
  },
  {
   "cell_type": "code",
   "execution_count": 5,
   "metadata": {},
   "outputs": [
    {
     "data": {
      "text/html": [
       "<div>\n",
       "<style scoped>\n",
       "    .dataframe tbody tr th:only-of-type {\n",
       "        vertical-align: middle;\n",
       "    }\n",
       "\n",
       "    .dataframe tbody tr th {\n",
       "        vertical-align: top;\n",
       "    }\n",
       "\n",
       "    .dataframe thead th {\n",
       "        text-align: right;\n",
       "    }\n",
       "</style>\n",
       "<table border=\"1\" class=\"dataframe\">\n",
       "  <thead>\n",
       "    <tr style=\"text-align: right;\">\n",
       "      <th></th>\n",
       "      <th>fare_amount</th>\n",
       "      <th>pickup_datetime</th>\n",
       "      <th>pickup_longitude</th>\n",
       "      <th>pickup_latitude</th>\n",
       "      <th>dropoff_longitude</th>\n",
       "      <th>dropoff_latitude</th>\n",
       "      <th>passenger_count</th>\n",
       "    </tr>\n",
       "  </thead>\n",
       "  <tbody>\n",
       "    <tr>\n",
       "      <th>0</th>\n",
       "      <td>4.5</td>\n",
       "      <td>2009-06-15 17:26:21 UTC</td>\n",
       "      <td>-73.844311</td>\n",
       "      <td>40.721319</td>\n",
       "      <td>-73.841610</td>\n",
       "      <td>40.712278</td>\n",
       "      <td>1.0</td>\n",
       "    </tr>\n",
       "    <tr>\n",
       "      <th>1</th>\n",
       "      <td>16.9</td>\n",
       "      <td>2010-01-05 16:52:16 UTC</td>\n",
       "      <td>-74.016048</td>\n",
       "      <td>40.711303</td>\n",
       "      <td>-73.979268</td>\n",
       "      <td>40.782004</td>\n",
       "      <td>1.0</td>\n",
       "    </tr>\n",
       "    <tr>\n",
       "      <th>2</th>\n",
       "      <td>5.7</td>\n",
       "      <td>2011-08-18 00:35:00 UTC</td>\n",
       "      <td>-73.982738</td>\n",
       "      <td>40.761270</td>\n",
       "      <td>-73.991242</td>\n",
       "      <td>40.750562</td>\n",
       "      <td>2.0</td>\n",
       "    </tr>\n",
       "    <tr>\n",
       "      <th>3</th>\n",
       "      <td>7.7</td>\n",
       "      <td>2012-04-21 04:30:42 UTC</td>\n",
       "      <td>-73.987130</td>\n",
       "      <td>40.733143</td>\n",
       "      <td>-73.991567</td>\n",
       "      <td>40.758092</td>\n",
       "      <td>1.0</td>\n",
       "    </tr>\n",
       "    <tr>\n",
       "      <th>4</th>\n",
       "      <td>5.3</td>\n",
       "      <td>2010-03-09 07:51:00 UTC</td>\n",
       "      <td>-73.968095</td>\n",
       "      <td>40.768008</td>\n",
       "      <td>-73.956655</td>\n",
       "      <td>40.783762</td>\n",
       "      <td>1.0</td>\n",
       "    </tr>\n",
       "  </tbody>\n",
       "</table>\n",
       "</div>"
      ],
      "text/plain": [
       "  fare_amount          pickup_datetime  pickup_longitude  pickup_latitude  \\\n",
       "0         4.5  2009-06-15 17:26:21 UTC        -73.844311        40.721319   \n",
       "1        16.9  2010-01-05 16:52:16 UTC        -74.016048        40.711303   \n",
       "2         5.7  2011-08-18 00:35:00 UTC        -73.982738        40.761270   \n",
       "3         7.7  2012-04-21 04:30:42 UTC        -73.987130        40.733143   \n",
       "4         5.3  2010-03-09 07:51:00 UTC        -73.968095        40.768008   \n",
       "\n",
       "   dropoff_longitude  dropoff_latitude  passenger_count  \n",
       "0         -73.841610         40.712278              1.0  \n",
       "1         -73.979268         40.782004              1.0  \n",
       "2         -73.991242         40.750562              2.0  \n",
       "3         -73.991567         40.758092              1.0  \n",
       "4         -73.956655         40.783762              1.0  "
      ]
     },
     "execution_count": 5,
     "metadata": {},
     "output_type": "execute_result"
    }
   ],
   "source": [
    "# Viewing first 5 observations of our data\n",
    "\n",
    "train_cab.head()"
   ]
  },
  {
   "cell_type": "code",
   "execution_count": 6,
   "metadata": {},
   "outputs": [
    {
     "data": {
      "text/plain": [
       "(16066, 7)"
      ]
     },
     "execution_count": 6,
     "metadata": {},
     "output_type": "execute_result"
    }
   ],
   "source": [
    "# Checking total number of observations and variables\n",
    "\n",
    "train_cab.shape"
   ]
  },
  {
   "cell_type": "code",
   "execution_count": 7,
   "metadata": {},
   "outputs": [
    {
     "data": {
      "text/plain": [
       "pandas.core.frame.DataFrame"
      ]
     },
     "execution_count": 7,
     "metadata": {},
     "output_type": "execute_result"
    }
   ],
   "source": [
    "# Knowing the type of our data\n",
    "\n",
    "type(train_cab)"
   ]
  },
  {
   "cell_type": "code",
   "execution_count": 8,
   "metadata": {},
   "outputs": [
    {
     "data": {
      "text/plain": [
       "fare_amount           object\n",
       "pickup_datetime       object\n",
       "pickup_longitude     float64\n",
       "pickup_latitude      float64\n",
       "dropoff_longitude    float64\n",
       "dropoff_latitude     float64\n",
       "passenger_count      float64\n",
       "dtype: object"
      ]
     },
     "execution_count": 8,
     "metadata": {},
     "output_type": "execute_result"
    }
   ],
   "source": [
    "# Knowing the datatypes of our predictors\n",
    "\n",
    "train_cab.dtypes"
   ]
  },
  {
   "cell_type": "code",
   "execution_count": 9,
   "metadata": {},
   "outputs": [
    {
     "data": {
      "text/html": [
       "<div>\n",
       "<style scoped>\n",
       "    .dataframe tbody tr th:only-of-type {\n",
       "        vertical-align: middle;\n",
       "    }\n",
       "\n",
       "    .dataframe tbody tr th {\n",
       "        vertical-align: top;\n",
       "    }\n",
       "\n",
       "    .dataframe thead th {\n",
       "        text-align: right;\n",
       "    }\n",
       "</style>\n",
       "<table border=\"1\" class=\"dataframe\">\n",
       "  <thead>\n",
       "    <tr style=\"text-align: right;\">\n",
       "      <th></th>\n",
       "      <th>pickup_longitude</th>\n",
       "      <th>pickup_latitude</th>\n",
       "      <th>dropoff_longitude</th>\n",
       "      <th>dropoff_latitude</th>\n",
       "      <th>passenger_count</th>\n",
       "    </tr>\n",
       "  </thead>\n",
       "  <tbody>\n",
       "    <tr>\n",
       "      <th>count</th>\n",
       "      <td>16066.000000</td>\n",
       "      <td>16066.000000</td>\n",
       "      <td>16066.000000</td>\n",
       "      <td>16066.000000</td>\n",
       "      <td>16011.000000</td>\n",
       "    </tr>\n",
       "    <tr>\n",
       "      <th>mean</th>\n",
       "      <td>-72.462693</td>\n",
       "      <td>39.914675</td>\n",
       "      <td>-72.462233</td>\n",
       "      <td>39.897852</td>\n",
       "      <td>2.625171</td>\n",
       "    </tr>\n",
       "    <tr>\n",
       "      <th>std</th>\n",
       "      <td>10.578707</td>\n",
       "      <td>6.826797</td>\n",
       "      <td>10.575384</td>\n",
       "      <td>6.187276</td>\n",
       "      <td>60.846021</td>\n",
       "    </tr>\n",
       "    <tr>\n",
       "      <th>min</th>\n",
       "      <td>-74.438233</td>\n",
       "      <td>-74.006893</td>\n",
       "      <td>-74.429332</td>\n",
       "      <td>-74.006377</td>\n",
       "      <td>0.000000</td>\n",
       "    </tr>\n",
       "    <tr>\n",
       "      <th>25%</th>\n",
       "      <td>-73.992156</td>\n",
       "      <td>40.734935</td>\n",
       "      <td>-73.991182</td>\n",
       "      <td>40.734647</td>\n",
       "      <td>1.000000</td>\n",
       "    </tr>\n",
       "    <tr>\n",
       "      <th>50%</th>\n",
       "      <td>-73.981697</td>\n",
       "      <td>40.752605</td>\n",
       "      <td>-73.980170</td>\n",
       "      <td>40.753566</td>\n",
       "      <td>1.000000</td>\n",
       "    </tr>\n",
       "    <tr>\n",
       "      <th>75%</th>\n",
       "      <td>-73.966837</td>\n",
       "      <td>40.767381</td>\n",
       "      <td>-73.963642</td>\n",
       "      <td>40.768015</td>\n",
       "      <td>2.000000</td>\n",
       "    </tr>\n",
       "    <tr>\n",
       "      <th>max</th>\n",
       "      <td>40.766125</td>\n",
       "      <td>401.083332</td>\n",
       "      <td>40.802437</td>\n",
       "      <td>41.366138</td>\n",
       "      <td>5345.000000</td>\n",
       "    </tr>\n",
       "  </tbody>\n",
       "</table>\n",
       "</div>"
      ],
      "text/plain": [
       "       pickup_longitude  pickup_latitude  dropoff_longitude  dropoff_latitude  \\\n",
       "count      16066.000000     16066.000000       16066.000000      16066.000000   \n",
       "mean         -72.462693        39.914675         -72.462233         39.897852   \n",
       "std           10.578707         6.826797          10.575384          6.187276   \n",
       "min          -74.438233       -74.006893         -74.429332        -74.006377   \n",
       "25%          -73.992156        40.734935         -73.991182         40.734647   \n",
       "50%          -73.981697        40.752605         -73.980170         40.753566   \n",
       "75%          -73.966837        40.767381         -73.963642         40.768015   \n",
       "max           40.766125       401.083332          40.802437         41.366138   \n",
       "\n",
       "       passenger_count  \n",
       "count     16011.000000  \n",
       "mean          2.625171  \n",
       "std          60.846021  \n",
       "min           0.000000  \n",
       "25%           1.000000  \n",
       "50%           1.000000  \n",
       "75%           2.000000  \n",
       "max        5345.000000  "
      ]
     },
     "execution_count": 9,
     "metadata": {},
     "output_type": "execute_result"
    }
   ],
   "source": [
    "# More information about our dataset\n",
    "\n",
    "train_cab.describe()"
   ]
  },
  {
   "cell_type": "markdown",
   "metadata": {},
   "source": [
    "## Time to go ahead for Data Cleaning, Missing Value and Outliers analysis"
   ]
  },
  {
   "cell_type": "code",
   "execution_count": 10,
   "metadata": {},
   "outputs": [],
   "source": [
    "# First, we shall go for converting our fare_amount variable from object to numeric data type\n",
    "\n",
    "train_cab['fare_amount'] = pd.to_numeric(train_cab['fare_amount'], errors = \"coerce\") \n",
    "\n",
    "# Why using errors = \"coerce\", because, it replaces all non numeric values with NaN"
   ]
  },
  {
   "cell_type": "code",
   "execution_count": 11,
   "metadata": {},
   "outputs": [
    {
     "data": {
      "text/plain": [
       "fare_amount          float64\n",
       "pickup_datetime       object\n",
       "pickup_longitude     float64\n",
       "pickup_latitude      float64\n",
       "dropoff_longitude    float64\n",
       "dropoff_latitude     float64\n",
       "passenger_count      float64\n",
       "dtype: object"
      ]
     },
     "execution_count": 11,
     "metadata": {},
     "output_type": "execute_result"
    }
   ],
   "source": [
    "train_cab.dtypes"
   ]
  },
  {
   "cell_type": "code",
   "execution_count": 12,
   "metadata": {},
   "outputs": [
    {
     "data": {
      "text/html": [
       "<div>\n",
       "<style scoped>\n",
       "    .dataframe tbody tr th:only-of-type {\n",
       "        vertical-align: middle;\n",
       "    }\n",
       "\n",
       "    .dataframe tbody tr th {\n",
       "        vertical-align: top;\n",
       "    }\n",
       "\n",
       "    .dataframe thead th {\n",
       "        text-align: right;\n",
       "    }\n",
       "</style>\n",
       "<table border=\"1\" class=\"dataframe\">\n",
       "  <thead>\n",
       "    <tr style=\"text-align: right;\">\n",
       "      <th></th>\n",
       "      <th>fare_amount</th>\n",
       "      <th>pickup_longitude</th>\n",
       "      <th>pickup_latitude</th>\n",
       "      <th>dropoff_longitude</th>\n",
       "      <th>dropoff_latitude</th>\n",
       "      <th>passenger_count</th>\n",
       "    </tr>\n",
       "  </thead>\n",
       "  <tbody>\n",
       "    <tr>\n",
       "      <th>count</th>\n",
       "      <td>16041.000000</td>\n",
       "      <td>16066.000000</td>\n",
       "      <td>16066.000000</td>\n",
       "      <td>16066.000000</td>\n",
       "      <td>16066.000000</td>\n",
       "      <td>16011.000000</td>\n",
       "    </tr>\n",
       "    <tr>\n",
       "      <th>mean</th>\n",
       "      <td>15.015223</td>\n",
       "      <td>-72.462693</td>\n",
       "      <td>39.914675</td>\n",
       "      <td>-72.462233</td>\n",
       "      <td>39.897852</td>\n",
       "      <td>2.625171</td>\n",
       "    </tr>\n",
       "    <tr>\n",
       "      <th>std</th>\n",
       "      <td>430.474362</td>\n",
       "      <td>10.578707</td>\n",
       "      <td>6.826797</td>\n",
       "      <td>10.575384</td>\n",
       "      <td>6.187276</td>\n",
       "      <td>60.846021</td>\n",
       "    </tr>\n",
       "    <tr>\n",
       "      <th>min</th>\n",
       "      <td>-3.000000</td>\n",
       "      <td>-74.438233</td>\n",
       "      <td>-74.006893</td>\n",
       "      <td>-74.429332</td>\n",
       "      <td>-74.006377</td>\n",
       "      <td>0.000000</td>\n",
       "    </tr>\n",
       "    <tr>\n",
       "      <th>25%</th>\n",
       "      <td>6.000000</td>\n",
       "      <td>-73.992156</td>\n",
       "      <td>40.734935</td>\n",
       "      <td>-73.991182</td>\n",
       "      <td>40.734647</td>\n",
       "      <td>1.000000</td>\n",
       "    </tr>\n",
       "    <tr>\n",
       "      <th>50%</th>\n",
       "      <td>8.500000</td>\n",
       "      <td>-73.981697</td>\n",
       "      <td>40.752605</td>\n",
       "      <td>-73.980170</td>\n",
       "      <td>40.753566</td>\n",
       "      <td>1.000000</td>\n",
       "    </tr>\n",
       "    <tr>\n",
       "      <th>75%</th>\n",
       "      <td>12.500000</td>\n",
       "      <td>-73.966837</td>\n",
       "      <td>40.767381</td>\n",
       "      <td>-73.963642</td>\n",
       "      <td>40.768015</td>\n",
       "      <td>2.000000</td>\n",
       "    </tr>\n",
       "    <tr>\n",
       "      <th>max</th>\n",
       "      <td>54343.000000</td>\n",
       "      <td>40.766125</td>\n",
       "      <td>401.083332</td>\n",
       "      <td>40.802437</td>\n",
       "      <td>41.366138</td>\n",
       "      <td>5345.000000</td>\n",
       "    </tr>\n",
       "  </tbody>\n",
       "</table>\n",
       "</div>"
      ],
      "text/plain": [
       "        fare_amount  pickup_longitude  pickup_latitude  dropoff_longitude  \\\n",
       "count  16041.000000      16066.000000     16066.000000       16066.000000   \n",
       "mean      15.015223        -72.462693        39.914675         -72.462233   \n",
       "std      430.474362         10.578707         6.826797          10.575384   \n",
       "min       -3.000000        -74.438233       -74.006893         -74.429332   \n",
       "25%        6.000000        -73.992156        40.734935         -73.991182   \n",
       "50%        8.500000        -73.981697        40.752605         -73.980170   \n",
       "75%       12.500000        -73.966837        40.767381         -73.963642   \n",
       "max    54343.000000         40.766125       401.083332          40.802437   \n",
       "\n",
       "       dropoff_latitude  passenger_count  \n",
       "count      16066.000000     16011.000000  \n",
       "mean          39.897852         2.625171  \n",
       "std            6.187276        60.846021  \n",
       "min          -74.006377         0.000000  \n",
       "25%           40.734647         1.000000  \n",
       "50%           40.753566         1.000000  \n",
       "75%           40.768015         2.000000  \n",
       "max           41.366138      5345.000000  "
      ]
     },
     "execution_count": 12,
     "metadata": {},
     "output_type": "execute_result"
    }
   ],
   "source": [
    "# Describe function given again to view fare_amount\n",
    "\n",
    "train_cab.describe()\n",
    "\n",
    "# We can observe here, outliers present in fare_amount, passenger_count, pickup_latitude. Very soon we will go in-depth"
   ]
  },
  {
   "cell_type": "code",
   "execution_count": 13,
   "metadata": {},
   "outputs": [],
   "source": [
    "# Next, we shall go for converting our fare_amount variable from object to numeric data type\n",
    "\n",
    "train_cab['pickup_datetime'] =  pd.to_datetime(train_cab['pickup_datetime'], format='%Y-%m-%d %H:%M:%S UTC')"
   ]
  },
  {
   "cell_type": "code",
   "execution_count": 14,
   "metadata": {},
   "outputs": [
    {
     "data": {
      "text/plain": [
       "fare_amount                 float64\n",
       "pickup_datetime      datetime64[ns]\n",
       "pickup_longitude            float64\n",
       "pickup_latitude             float64\n",
       "dropoff_longitude           float64\n",
       "dropoff_latitude            float64\n",
       "passenger_count             float64\n",
       "dtype: object"
      ]
     },
     "execution_count": 14,
     "metadata": {},
     "output_type": "execute_result"
    }
   ],
   "source": [
    "train_cab.dtypes"
   ]
  },
  {
   "cell_type": "code",
   "execution_count": 15,
   "metadata": {},
   "outputs": [],
   "source": [
    "# We are given with datetime varibale, however, we have no idea how to deal with it in a regression problem.\n",
    "\n",
    "# We took help in google and found out we can separate datetime variable into year, month, date, day, hour, minute.\n",
    "\n",
    "# Here's the code to split datetime variable\n",
    "\n",
    "train_cab['year'] = train_cab['pickup_datetime'].dt.year\n",
    "train_cab['month'] = train_cab['pickup_datetime'].dt.month\n",
    "train_cab['date'] = train_cab['pickup_datetime'].dt.day\n",
    "train_cab['day'] = train_cab['pickup_datetime'].dt.dayofweek\n",
    "train_cab['hour'] = train_cab['pickup_datetime'].dt.hour\n",
    "train_cab['minute'] = train_cab['pickup_datetime'].dt.minute"
   ]
  },
  {
   "cell_type": "code",
   "execution_count": 16,
   "metadata": {},
   "outputs": [
    {
     "data": {
      "text/plain": [
       "fare_amount                 float64\n",
       "pickup_datetime      datetime64[ns]\n",
       "pickup_longitude            float64\n",
       "pickup_latitude             float64\n",
       "dropoff_longitude           float64\n",
       "dropoff_latitude            float64\n",
       "passenger_count             float64\n",
       "year                          int64\n",
       "month                         int64\n",
       "date                          int64\n",
       "day                           int64\n",
       "hour                          int64\n",
       "minute                        int64\n",
       "dtype: object"
      ]
     },
     "execution_count": 16,
     "metadata": {},
     "output_type": "execute_result"
    }
   ],
   "source": [
    "# Let's check our new varibales\n",
    "\n",
    "train_cab.dtypes"
   ]
  },
  {
   "cell_type": "code",
   "execution_count": 17,
   "metadata": {},
   "outputs": [
    {
     "data": {
      "text/html": [
       "<div>\n",
       "<style scoped>\n",
       "    .dataframe tbody tr th:only-of-type {\n",
       "        vertical-align: middle;\n",
       "    }\n",
       "\n",
       "    .dataframe tbody tr th {\n",
       "        vertical-align: top;\n",
       "    }\n",
       "\n",
       "    .dataframe thead th {\n",
       "        text-align: right;\n",
       "    }\n",
       "</style>\n",
       "<table border=\"1\" class=\"dataframe\">\n",
       "  <thead>\n",
       "    <tr style=\"text-align: right;\">\n",
       "      <th></th>\n",
       "      <th>fare_amount</th>\n",
       "      <th>pickup_datetime</th>\n",
       "      <th>pickup_longitude</th>\n",
       "      <th>pickup_latitude</th>\n",
       "      <th>dropoff_longitude</th>\n",
       "      <th>dropoff_latitude</th>\n",
       "      <th>passenger_count</th>\n",
       "      <th>year</th>\n",
       "      <th>month</th>\n",
       "      <th>date</th>\n",
       "      <th>day</th>\n",
       "      <th>hour</th>\n",
       "      <th>minute</th>\n",
       "    </tr>\n",
       "  </thead>\n",
       "  <tbody>\n",
       "    <tr>\n",
       "      <th>0</th>\n",
       "      <td>4.5</td>\n",
       "      <td>2009-06-15 17:26:21</td>\n",
       "      <td>-73.844311</td>\n",
       "      <td>40.721319</td>\n",
       "      <td>-73.841610</td>\n",
       "      <td>40.712278</td>\n",
       "      <td>1.0</td>\n",
       "      <td>2009</td>\n",
       "      <td>6</td>\n",
       "      <td>15</td>\n",
       "      <td>0</td>\n",
       "      <td>17</td>\n",
       "      <td>26</td>\n",
       "    </tr>\n",
       "    <tr>\n",
       "      <th>1</th>\n",
       "      <td>16.9</td>\n",
       "      <td>2010-01-05 16:52:16</td>\n",
       "      <td>-74.016048</td>\n",
       "      <td>40.711303</td>\n",
       "      <td>-73.979268</td>\n",
       "      <td>40.782004</td>\n",
       "      <td>1.0</td>\n",
       "      <td>2010</td>\n",
       "      <td>1</td>\n",
       "      <td>5</td>\n",
       "      <td>1</td>\n",
       "      <td>16</td>\n",
       "      <td>52</td>\n",
       "    </tr>\n",
       "    <tr>\n",
       "      <th>2</th>\n",
       "      <td>5.7</td>\n",
       "      <td>2011-08-18 00:35:00</td>\n",
       "      <td>-73.982738</td>\n",
       "      <td>40.761270</td>\n",
       "      <td>-73.991242</td>\n",
       "      <td>40.750562</td>\n",
       "      <td>2.0</td>\n",
       "      <td>2011</td>\n",
       "      <td>8</td>\n",
       "      <td>18</td>\n",
       "      <td>3</td>\n",
       "      <td>0</td>\n",
       "      <td>35</td>\n",
       "    </tr>\n",
       "    <tr>\n",
       "      <th>3</th>\n",
       "      <td>7.7</td>\n",
       "      <td>2012-04-21 04:30:42</td>\n",
       "      <td>-73.987130</td>\n",
       "      <td>40.733143</td>\n",
       "      <td>-73.991567</td>\n",
       "      <td>40.758092</td>\n",
       "      <td>1.0</td>\n",
       "      <td>2012</td>\n",
       "      <td>4</td>\n",
       "      <td>21</td>\n",
       "      <td>5</td>\n",
       "      <td>4</td>\n",
       "      <td>30</td>\n",
       "    </tr>\n",
       "    <tr>\n",
       "      <th>4</th>\n",
       "      <td>5.3</td>\n",
       "      <td>2010-03-09 07:51:00</td>\n",
       "      <td>-73.968095</td>\n",
       "      <td>40.768008</td>\n",
       "      <td>-73.956655</td>\n",
       "      <td>40.783762</td>\n",
       "      <td>1.0</td>\n",
       "      <td>2010</td>\n",
       "      <td>3</td>\n",
       "      <td>9</td>\n",
       "      <td>1</td>\n",
       "      <td>7</td>\n",
       "      <td>51</td>\n",
       "    </tr>\n",
       "  </tbody>\n",
       "</table>\n",
       "</div>"
      ],
      "text/plain": [
       "   fare_amount     pickup_datetime  pickup_longitude  pickup_latitude  \\\n",
       "0          4.5 2009-06-15 17:26:21        -73.844311        40.721319   \n",
       "1         16.9 2010-01-05 16:52:16        -74.016048        40.711303   \n",
       "2          5.7 2011-08-18 00:35:00        -73.982738        40.761270   \n",
       "3          7.7 2012-04-21 04:30:42        -73.987130        40.733143   \n",
       "4          5.3 2010-03-09 07:51:00        -73.968095        40.768008   \n",
       "\n",
       "   dropoff_longitude  dropoff_latitude  passenger_count  year  month  date  \\\n",
       "0         -73.841610         40.712278              1.0  2009      6    15   \n",
       "1         -73.979268         40.782004              1.0  2010      1     5   \n",
       "2         -73.991242         40.750562              2.0  2011      8    18   \n",
       "3         -73.991567         40.758092              1.0  2012      4    21   \n",
       "4         -73.956655         40.783762              1.0  2010      3     9   \n",
       "\n",
       "   day  hour  minute  \n",
       "0    0    17      26  \n",
       "1    1    16      52  \n",
       "2    3     0      35  \n",
       "3    5     4      30  \n",
       "4    1     7      51  "
      ]
     },
     "execution_count": 17,
     "metadata": {},
     "output_type": "execute_result"
    }
   ],
   "source": [
    "# Here's the view about our data with new variables\n",
    "\n",
    "train_cab.head()"
   ]
  },
  {
   "cell_type": "code",
   "execution_count": 18,
   "metadata": {},
   "outputs": [
    {
     "data": {
      "text/plain": [
       "fare_amount          25\n",
       "pickup_datetime       0\n",
       "pickup_longitude      0\n",
       "pickup_latitude       0\n",
       "dropoff_longitude     0\n",
       "dropoff_latitude      0\n",
       "passenger_count      55\n",
       "year                  0\n",
       "month                 0\n",
       "date                  0\n",
       "day                   0\n",
       "hour                  0\n",
       "minute                0\n",
       "dtype: int64"
      ]
     },
     "execution_count": 18,
     "metadata": {},
     "output_type": "execute_result"
    }
   ],
   "source": [
    "# Total number of missing values in our dataset variables\n",
    "\n",
    "train_cab.isnull().sum()"
   ]
  },
  {
   "cell_type": "code",
   "execution_count": 19,
   "metadata": {},
   "outputs": [],
   "source": [
    "# Line of code to delete the observations with respect to missing value in fare_amount \n",
    "\n",
    "train_cab = train_cab.drop(train_cab[train_cab['fare_amount'].isnull()].index, axis = 0)\n",
    "\n",
    "# Line of code to delete the observations with respect to missing value in passenger_count\n",
    "\n",
    "train_cab = train_cab.drop(train_cab[train_cab['passenger_count'].isnull()].index, axis = 0)"
   ]
  },
  {
   "cell_type": "code",
   "execution_count": 20,
   "metadata": {},
   "outputs": [
    {
     "data": {
      "text/plain": [
       "fare_amount          0\n",
       "pickup_datetime      0\n",
       "pickup_longitude     0\n",
       "pickup_latitude      0\n",
       "dropoff_longitude    0\n",
       "dropoff_latitude     0\n",
       "passenger_count      0\n",
       "year                 0\n",
       "month                0\n",
       "date                 0\n",
       "day                  0\n",
       "hour                 0\n",
       "minute               0\n",
       "dtype: int64"
      ]
     },
     "execution_count": 20,
     "metadata": {},
     "output_type": "execute_result"
    }
   ],
   "source": [
    "# Let's have a look at missing values after running the above code\n",
    "\n",
    "# We could go for imputing the missing values using central tendency techniques, but we deleted as we have very few of them\n",
    "\n",
    "train_cab.isnull().sum()\n",
    "\n",
    "# Finally, we are done with MISSING VALUES. We will shift to cleaning OUTLIERS."
   ]
  },
  {
   "cell_type": "code",
   "execution_count": 21,
   "metadata": {},
   "outputs": [
    {
     "data": {
      "text/plain": [
       "count    15986.000000\n",
       "mean        15.030453\n",
       "std        431.213944\n",
       "min         -3.000000\n",
       "25%          6.000000\n",
       "50%          8.500000\n",
       "75%         12.500000\n",
       "max      54343.000000\n",
       "Name: fare_amount, dtype: float64"
      ]
     },
     "execution_count": 21,
     "metadata": {},
     "output_type": "execute_result"
    }
   ],
   "source": [
    "# Now we will focus on finding the OUTLIERS.  \n",
    "\n",
    "# We will start with fare_amount\n",
    "\n",
    "train_cab['fare_amount'].describe()\n",
    "\n",
    "# We can observe the max value as 54343 and min as -3. It clearly defines outliers. "
   ]
  },
  {
   "cell_type": "code",
   "execution_count": 22,
   "metadata": {},
   "outputs": [
    {
     "data": {
      "text/plain": [
       "1015     54343.00\n",
       "1072      4343.00\n",
       "607        453.00\n",
       "980        434.00\n",
       "1334       180.00\n",
       "1482       165.00\n",
       "6629       128.83\n",
       "14141      108.00\n",
       "12348      104.67\n",
       "12914       96.00\n",
       "7809        95.00\n",
       "9430        88.00\n",
       "10076       87.30\n",
       "12613       87.00\n",
       "4619        85.50\n",
       "14518       82.50\n",
       "12436       80.75\n",
       "2638        79.00\n",
       "4012        77.70\n",
       "13961       77.15\n",
       "2012        77.00\n",
       "6667        76.80\n",
       "8362        76.00\n",
       "10523       75.80\n",
       "11018       75.33\n",
       "13614       75.00\n",
       "15022       73.30\n",
       "1493        70.00\n",
       "4117        69.70\n",
       "649         66.30\n",
       "           ...   \n",
       "12177        2.50\n",
       "3426         2.50\n",
       "3167         2.50\n",
       "12597        2.50\n",
       "12342        2.50\n",
       "6296         2.50\n",
       "4083         2.50\n",
       "14303        2.50\n",
       "4538         2.50\n",
       "11152        2.50\n",
       "2305         2.50\n",
       "9176         2.50\n",
       "657          2.50\n",
       "14573        2.50\n",
       "11061        2.50\n",
       "13487        2.50\n",
       "8794         2.50\n",
       "13570        2.50\n",
       "11221        2.50\n",
       "14632        2.50\n",
       "4366         2.50\n",
       "15256        2.50\n",
       "13220        2.50\n",
       "4320         2.50\n",
       "1426         1.14\n",
       "2779         0.01\n",
       "10001        0.00\n",
       "2485        -2.50\n",
       "2038        -2.90\n",
       "13031       -3.00\n",
       "Name: fare_amount, Length: 15986, dtype: float64"
      ]
     },
     "execution_count": 22,
     "metadata": {},
     "output_type": "execute_result"
    }
   ],
   "source": [
    "# Let's go for sorting of fare_amount to get better idea\n",
    "\n",
    "train_cab['fare_amount'].sort_values(ascending = False)\n",
    "\n",
    "# We can observe at the top as 54343, 4343, and at bottom as 0, -2, -3  as the fare_amount. Its not practical. "
   ]
  },
  {
   "cell_type": "code",
   "execution_count": 23,
   "metadata": {},
   "outputs": [],
   "source": [
    "# Code to delete the maximum and minimum values in fare_amount \n",
    "\n",
    "train_cab = train_cab.drop(train_cab[train_cab['fare_amount'] < 1].index, axis = 0)\n",
    "\n",
    "train_cab = train_cab.drop(train_cab[train_cab['fare_amount'] > 453].index, axis = 0)"
   ]
  },
  {
   "cell_type": "code",
   "execution_count": 24,
   "metadata": {},
   "outputs": [
    {
     "data": {
      "text/plain": [
       "607      453.00\n",
       "980      434.00\n",
       "1334     180.00\n",
       "1482     165.00\n",
       "6629     128.83\n",
       "14141    108.00\n",
       "12348    104.67\n",
       "12914     96.00\n",
       "7809      95.00\n",
       "9430      88.00\n",
       "10076     87.30\n",
       "12613     87.00\n",
       "4619      85.50\n",
       "14518     82.50\n",
       "12436     80.75\n",
       "2638      79.00\n",
       "4012      77.70\n",
       "13961     77.15\n",
       "2012      77.00\n",
       "6667      76.80\n",
       "8362      76.00\n",
       "10523     75.80\n",
       "11018     75.33\n",
       "13614     75.00\n",
       "15022     73.30\n",
       "1493      70.00\n",
       "4117      69.70\n",
       "9650      66.30\n",
       "649       66.30\n",
       "1708      65.50\n",
       "          ...  \n",
       "10704      2.50\n",
       "13487      2.50\n",
       "3167       2.50\n",
       "12177      2.50\n",
       "13220      2.50\n",
       "6631       2.50\n",
       "6702       2.50\n",
       "6764       2.50\n",
       "9772       2.50\n",
       "15369      2.50\n",
       "1418       2.50\n",
       "6006       2.50\n",
       "503        2.50\n",
       "4366       2.50\n",
       "8679       2.50\n",
       "8602       2.50\n",
       "4320       2.50\n",
       "226        2.50\n",
       "9620       2.50\n",
       "8595       2.50\n",
       "8915       2.50\n",
       "7907       2.50\n",
       "3557       2.50\n",
       "10110      2.50\n",
       "8546       2.50\n",
       "7917       2.50\n",
       "15256      2.50\n",
       "13876      2.50\n",
       "6001       2.50\n",
       "1426       1.14\n",
       "Name: fare_amount, Length: 15979, dtype: float64"
      ]
     },
     "execution_count": 24,
     "metadata": {},
     "output_type": "execute_result"
    }
   ],
   "source": [
    "# Let's have another look at the sorting of fare_amount\n",
    "\n",
    "train_cab['fare_amount'].sort_values(ascending = False)\n",
    "\n",
    "# Now, we can observe, the maximum values and minimum values are deleted."
   ]
  },
  {
   "cell_type": "code",
   "execution_count": 25,
   "metadata": {},
   "outputs": [
    {
     "data": {
      "text/html": [
       "<div>\n",
       "<style scoped>\n",
       "    .dataframe tbody tr th:only-of-type {\n",
       "        vertical-align: middle;\n",
       "    }\n",
       "\n",
       "    .dataframe tbody tr th {\n",
       "        vertical-align: top;\n",
       "    }\n",
       "\n",
       "    .dataframe thead th {\n",
       "        text-align: right;\n",
       "    }\n",
       "</style>\n",
       "<table border=\"1\" class=\"dataframe\">\n",
       "  <thead>\n",
       "    <tr style=\"text-align: right;\">\n",
       "      <th></th>\n",
       "      <th>fare_amount</th>\n",
       "      <th>pickup_datetime</th>\n",
       "      <th>pickup_longitude</th>\n",
       "      <th>pickup_latitude</th>\n",
       "      <th>dropoff_longitude</th>\n",
       "      <th>dropoff_latitude</th>\n",
       "      <th>passenger_count</th>\n",
       "      <th>year</th>\n",
       "      <th>month</th>\n",
       "      <th>date</th>\n",
       "      <th>day</th>\n",
       "      <th>hour</th>\n",
       "      <th>minute</th>\n",
       "    </tr>\n",
       "  </thead>\n",
       "  <tbody>\n",
       "  </tbody>\n",
       "</table>\n",
       "</div>"
      ],
      "text/plain": [
       "Empty DataFrame\n",
       "Columns: [fare_amount, pickup_datetime, pickup_longitude, pickup_latitude, dropoff_longitude, dropoff_latitude, passenger_count, year, month, date, day, hour, minute]\n",
       "Index: []"
      ]
     },
     "execution_count": 25,
     "metadata": {},
     "output_type": "execute_result"
    }
   ],
   "source": [
    "# After fare_amount, we have pickup_datetime in sequence to work, but, no need for checking outliers in pickup_datetime\n",
    "\n",
    "# Here we are, let's go ahead with finding missing values in pickup_longitude\n",
    "\n",
    "# It's time to learn what are the values, that are not accepted in longitude range.\n",
    "\n",
    "# From Google, its clear, longitude values should be -180 to +180\n",
    "\n",
    "train_cab[train_cab['pickup_longitude'] < -180]\n",
    "train_cab[train_cab['pickup_longitude'] > +180]\n",
    "\n",
    "# We can observe there's no outliers in pickup_longitude"
   ]
  },
  {
   "cell_type": "code",
   "execution_count": 26,
   "metadata": {},
   "outputs": [
    {
     "data": {
      "text/html": [
       "<div>\n",
       "<style scoped>\n",
       "    .dataframe tbody tr th:only-of-type {\n",
       "        vertical-align: middle;\n",
       "    }\n",
       "\n",
       "    .dataframe tbody tr th {\n",
       "        vertical-align: top;\n",
       "    }\n",
       "\n",
       "    .dataframe thead th {\n",
       "        text-align: right;\n",
       "    }\n",
       "</style>\n",
       "<table border=\"1\" class=\"dataframe\">\n",
       "  <thead>\n",
       "    <tr style=\"text-align: right;\">\n",
       "      <th></th>\n",
       "      <th>fare_amount</th>\n",
       "      <th>pickup_datetime</th>\n",
       "      <th>pickup_longitude</th>\n",
       "      <th>pickup_latitude</th>\n",
       "      <th>dropoff_longitude</th>\n",
       "      <th>dropoff_latitude</th>\n",
       "      <th>passenger_count</th>\n",
       "      <th>year</th>\n",
       "      <th>month</th>\n",
       "      <th>date</th>\n",
       "      <th>day</th>\n",
       "      <th>hour</th>\n",
       "      <th>minute</th>\n",
       "    </tr>\n",
       "  </thead>\n",
       "  <tbody>\n",
       "    <tr>\n",
       "      <th>5685</th>\n",
       "      <td>3.3</td>\n",
       "      <td>2011-07-30 11:15:00</td>\n",
       "      <td>-73.947235</td>\n",
       "      <td>401.083332</td>\n",
       "      <td>-73.951392</td>\n",
       "      <td>40.778927</td>\n",
       "      <td>1.0</td>\n",
       "      <td>2011</td>\n",
       "      <td>7</td>\n",
       "      <td>30</td>\n",
       "      <td>5</td>\n",
       "      <td>11</td>\n",
       "      <td>15</td>\n",
       "    </tr>\n",
       "  </tbody>\n",
       "</table>\n",
       "</div>"
      ],
      "text/plain": [
       "      fare_amount     pickup_datetime  pickup_longitude  pickup_latitude  \\\n",
       "5685          3.3 2011-07-30 11:15:00        -73.947235       401.083332   \n",
       "\n",
       "      dropoff_longitude  dropoff_latitude  passenger_count  year  month  date  \\\n",
       "5685         -73.951392         40.778927              1.0  2011      7    30   \n",
       "\n",
       "      day  hour  minute  \n",
       "5685    5    11      15  "
      ]
     },
     "execution_count": 26,
     "metadata": {},
     "output_type": "execute_result"
    }
   ],
   "source": [
    "# We shall do the same as above for pickup_latitude, and remember, latitude should be -90 to +90\n",
    "\n",
    "train_cab[train_cab['pickup_latitude'] < -90]\n",
    "train_cab[train_cab['pickup_latitude'] > +90]\n",
    "\n",
    "# We can observe there's one value with 401.083332"
   ]
  },
  {
   "cell_type": "code",
   "execution_count": 27,
   "metadata": {},
   "outputs": [],
   "source": [
    "# We are going to delete the found outlier in pickup_latitude\n",
    "\n",
    "train_cab = train_cab.drop(train_cab[train_cab['pickup_latitude'] > +90].index, axis = 0)\n",
    "\n",
    "# We deleted the outlier in pickup_latitude"
   ]
  },
  {
   "cell_type": "code",
   "execution_count": 28,
   "metadata": {},
   "outputs": [
    {
     "data": {
      "text/html": [
       "<div>\n",
       "<style scoped>\n",
       "    .dataframe tbody tr th:only-of-type {\n",
       "        vertical-align: middle;\n",
       "    }\n",
       "\n",
       "    .dataframe tbody tr th {\n",
       "        vertical-align: top;\n",
       "    }\n",
       "\n",
       "    .dataframe thead th {\n",
       "        text-align: right;\n",
       "    }\n",
       "</style>\n",
       "<table border=\"1\" class=\"dataframe\">\n",
       "  <thead>\n",
       "    <tr style=\"text-align: right;\">\n",
       "      <th></th>\n",
       "      <th>fare_amount</th>\n",
       "      <th>pickup_datetime</th>\n",
       "      <th>pickup_longitude</th>\n",
       "      <th>pickup_latitude</th>\n",
       "      <th>dropoff_longitude</th>\n",
       "      <th>dropoff_latitude</th>\n",
       "      <th>passenger_count</th>\n",
       "      <th>year</th>\n",
       "      <th>month</th>\n",
       "      <th>date</th>\n",
       "      <th>day</th>\n",
       "      <th>hour</th>\n",
       "      <th>minute</th>\n",
       "    </tr>\n",
       "  </thead>\n",
       "  <tbody>\n",
       "  </tbody>\n",
       "</table>\n",
       "</div>"
      ],
      "text/plain": [
       "Empty DataFrame\n",
       "Columns: [fare_amount, pickup_datetime, pickup_longitude, pickup_latitude, dropoff_longitude, dropoff_latitude, passenger_count, year, month, date, day, hour, minute]\n",
       "Index: []"
      ]
     },
     "execution_count": 28,
     "metadata": {},
     "output_type": "execute_result"
    }
   ],
   "source": [
    "# Time to do the same as above for dropoff_longitude\n",
    "\n",
    "train_cab[train_cab['dropoff_longitude'] < -180]\n",
    "train_cab[train_cab['dropoff_longitude'] > +180]\n",
    "\n",
    "# We can observe there's no outliers in dropoff_longitude"
   ]
  },
  {
   "cell_type": "code",
   "execution_count": 29,
   "metadata": {},
   "outputs": [
    {
     "data": {
      "text/html": [
       "<div>\n",
       "<style scoped>\n",
       "    .dataframe tbody tr th:only-of-type {\n",
       "        vertical-align: middle;\n",
       "    }\n",
       "\n",
       "    .dataframe tbody tr th {\n",
       "        vertical-align: top;\n",
       "    }\n",
       "\n",
       "    .dataframe thead th {\n",
       "        text-align: right;\n",
       "    }\n",
       "</style>\n",
       "<table border=\"1\" class=\"dataframe\">\n",
       "  <thead>\n",
       "    <tr style=\"text-align: right;\">\n",
       "      <th></th>\n",
       "      <th>fare_amount</th>\n",
       "      <th>pickup_datetime</th>\n",
       "      <th>pickup_longitude</th>\n",
       "      <th>pickup_latitude</th>\n",
       "      <th>dropoff_longitude</th>\n",
       "      <th>dropoff_latitude</th>\n",
       "      <th>passenger_count</th>\n",
       "      <th>year</th>\n",
       "      <th>month</th>\n",
       "      <th>date</th>\n",
       "      <th>day</th>\n",
       "      <th>hour</th>\n",
       "      <th>minute</th>\n",
       "    </tr>\n",
       "  </thead>\n",
       "  <tbody>\n",
       "  </tbody>\n",
       "</table>\n",
       "</div>"
      ],
      "text/plain": [
       "Empty DataFrame\n",
       "Columns: [fare_amount, pickup_datetime, pickup_longitude, pickup_latitude, dropoff_longitude, dropoff_latitude, passenger_count, year, month, date, day, hour, minute]\n",
       "Index: []"
      ]
     },
     "execution_count": 29,
     "metadata": {},
     "output_type": "execute_result"
    }
   ],
   "source": [
    "# Time to do the same as above for dropoff_latitude\n",
    "\n",
    "train_cab[train_cab['dropoff_latitude'] < -90]\n",
    "train_cab[train_cab['dropoff_latitude'] > +90]\n",
    "\n",
    "# We can observe there's no outliers in dropoff_latitude"
   ]
  },
  {
   "cell_type": "code",
   "execution_count": 30,
   "metadata": {},
   "outputs": [
    {
     "data": {
      "text/plain": [
       "1146     5345.0\n",
       "293      5334.0\n",
       "8984      557.0\n",
       "971       554.0\n",
       "8505      537.0\n",
       "1200      536.0\n",
       "356       535.0\n",
       "8714      531.2\n",
       "263       456.0\n",
       "386       354.0\n",
       "1107      345.0\n",
       "233       236.0\n",
       "8570       87.0\n",
       "8444       58.0\n",
       "1007       53.0\n",
       "8405       53.0\n",
       "8630       43.0\n",
       "1242       43.0\n",
       "1043       35.0\n",
       "2059        6.0\n",
       "6334        6.0\n",
       "1217        6.0\n",
       "11145       6.0\n",
       "10902       6.0\n",
       "7208        6.0\n",
       "15668       6.0\n",
       "15290       6.0\n",
       "3548        6.0\n",
       "2077        6.0\n",
       "14281       6.0\n",
       "          ...  \n",
       "8660        0.0\n",
       "5149        0.0\n",
       "6574        0.0\n",
       "4353        0.0\n",
       "4343        0.0\n",
       "5556        0.0\n",
       "8915        0.0\n",
       "6880        0.0\n",
       "4113        0.0\n",
       "314         0.0\n",
       "3488        0.0\n",
       "11461       0.0\n",
       "5913        0.0\n",
       "13713       0.0\n",
       "2199        0.0\n",
       "6035        0.0\n",
       "9158        0.0\n",
       "10641       0.0\n",
       "14195       0.0\n",
       "13741       0.0\n",
       "15513       0.0\n",
       "8970        0.0\n",
       "1160        0.0\n",
       "5516        0.0\n",
       "12610       0.0\n",
       "9964        0.0\n",
       "3033        0.0\n",
       "3480        0.0\n",
       "15918       0.0\n",
       "11802       0.0\n",
       "Name: passenger_count, Length: 15978, dtype: float64"
      ]
     },
     "execution_count": 30,
     "metadata": {},
     "output_type": "execute_result"
    }
   ],
   "source": [
    "# Put our hands on passenger_count outliers\n",
    "\n",
    "train_cab['passenger_count'].sort_values(ascending = False)\n",
    "\n",
    "# We can observe that, there's lot of outliers in passenger_count.\n",
    "\n",
    "# Even if we consider SUV, maximum capacity of passenegers = 6. We are going to delete the values > 6 and < 1. "
   ]
  },
  {
   "cell_type": "code",
   "execution_count": 31,
   "metadata": {},
   "outputs": [
    {
     "name": "stdout",
     "output_type": "stream",
     "text": [
      "Counter({False: 15920, True: 58})\n",
      "Counter({False: 15959, True: 19})\n"
     ]
    }
   ],
   "source": [
    "# Code to know total number of outliers\n",
    "\n",
    "print(Counter(train_cab['passenger_count'] < 1))\n",
    "print(Counter(train_cab['passenger_count'] > 6))"
   ]
  },
  {
   "cell_type": "code",
   "execution_count": 32,
   "metadata": {},
   "outputs": [],
   "source": [
    "# We are going to delete the observations with outliers in passenger_count, instead of imputation, as they are very few\n",
    "\n",
    "train_cab = train_cab.drop(((train_cab[train_cab['passenger_count'] < 1]) & (train_cab[train_cab['passenger_count'] > 6])).index, axis = 0)"
   ]
  },
  {
   "cell_type": "code",
   "execution_count": 33,
   "metadata": {},
   "outputs": [
    {
     "data": {
      "text/plain": [
       "1173     6.0\n",
       "15422    6.0\n",
       "14742    6.0\n",
       "5524     6.0\n",
       "7347     6.0\n",
       "11747    6.0\n",
       "10691    6.0\n",
       "198      6.0\n",
       "15412    6.0\n",
       "10656    6.0\n",
       "10654    6.0\n",
       "15784    6.0\n",
       "11759    6.0\n",
       "15084    6.0\n",
       "3084     6.0\n",
       "3867     6.0\n",
       "1712     6.0\n",
       "12681    6.0\n",
       "13691    6.0\n",
       "188      6.0\n",
       "1707     6.0\n",
       "6816     6.0\n",
       "2432     6.0\n",
       "3878     6.0\n",
       "7895     6.0\n",
       "15048    6.0\n",
       "4866     6.0\n",
       "8880     6.0\n",
       "11635    6.0\n",
       "10809    6.0\n",
       "        ... \n",
       "9768     1.0\n",
       "9767     1.0\n",
       "9765     1.0\n",
       "9764     1.0\n",
       "9793     1.0\n",
       "9794     1.0\n",
       "9795     1.0\n",
       "9796     1.0\n",
       "9830     1.0\n",
       "9828     1.0\n",
       "9827     1.0\n",
       "9826     1.0\n",
       "9825     1.0\n",
       "9823     1.0\n",
       "9822     1.0\n",
       "9821     1.0\n",
       "9819     1.0\n",
       "9818     1.0\n",
       "9817     1.0\n",
       "9813     1.0\n",
       "9811     1.0\n",
       "9810     1.0\n",
       "9808     1.0\n",
       "9807     1.0\n",
       "9806     1.0\n",
       "9805     1.0\n",
       "9803     1.0\n",
       "9800     1.0\n",
       "9797     1.0\n",
       "0        1.0\n",
       "Name: passenger_count, Length: 15901, dtype: float64"
      ]
     },
     "execution_count": 33,
     "metadata": {},
     "output_type": "execute_result"
    }
   ],
   "source": [
    "# Let's confirm about the removal of outliers in passenger_count\n",
    "\n",
    "train_cab['passenger_count'].sort_values(ascending = False)\n",
    "\n",
    "# We can observe that, there are no outliers."
   ]
  },
  {
   "cell_type": "code",
   "execution_count": 34,
   "metadata": {},
   "outputs": [],
   "source": [
    "# Here's a multi-million dollar question - how to deal with data when given with latitude and longitude values?\n",
    "\n",
    "# Finally from Google, we learnt that, we can use Havsersine Formlua to calculate distance from the values\n",
    "\n",
    "# Importing math library to perform some calculations\n",
    "\n",
    "import math\n",
    "\n",
    "def haversine(a):\n",
    "    lon1 = a[0]\n",
    "    lat1 = a[1]\n",
    "    lon2 = a[2]\n",
    "    lat2 = a[3]\n",
    "    \"\"\"\n",
    "    Calculate the great circle distance between two points \n",
    "    on the earth (specified in decimal degrees).\n",
    "    Source: https://gis.stackexchange.com/a/56589/15183\n",
    "    \"\"\"\n",
    "    # convert decimal degrees to radians \n",
    "    \n",
    "    lon1, lat1, lon2, lat2 = map(math.radians, [lon1, lat1, lon2, lat2])\n",
    "    \n",
    "    # Haversine formula \n",
    "    \n",
    "    dlon = lon2 - lon1 \n",
    "    \n",
    "    dlat = lat2 - lat1 \n",
    "    \n",
    "    a = math.sin(dlat/2)**2 + math.cos(lat1) * math.cos(lat2) * math.sin(dlon/2)**2\n",
    "    \n",
    "    c = 2 * math.asin(math.sqrt(a)) \n",
    "    \n",
    "    km = 6371 * c\n",
    "    \n",
    "    return km"
   ]
  },
  {
   "cell_type": "code",
   "execution_count": 35,
   "metadata": {},
   "outputs": [],
   "source": [
    "# Time to create a new variable using the above Havsersine function\n",
    "\n",
    "# The process we are experiencing now, can be coined as - FEATURE ENGINEERING - deriving new variables from existing ones\n",
    "\n",
    "train_cab['distance'] = train_cab[['pickup_longitude', 'pickup_latitude', 'dropoff_longitude', 'dropoff_latitude']].apply(haversine, axis = 1)"
   ]
  },
  {
   "cell_type": "code",
   "execution_count": 36,
   "metadata": {},
   "outputs": [
    {
     "data": {
      "text/html": [
       "<div>\n",
       "<style scoped>\n",
       "    .dataframe tbody tr th:only-of-type {\n",
       "        vertical-align: middle;\n",
       "    }\n",
       "\n",
       "    .dataframe tbody tr th {\n",
       "        vertical-align: top;\n",
       "    }\n",
       "\n",
       "    .dataframe thead th {\n",
       "        text-align: right;\n",
       "    }\n",
       "</style>\n",
       "<table border=\"1\" class=\"dataframe\">\n",
       "  <thead>\n",
       "    <tr style=\"text-align: right;\">\n",
       "      <th></th>\n",
       "      <th>fare_amount</th>\n",
       "      <th>pickup_datetime</th>\n",
       "      <th>pickup_longitude</th>\n",
       "      <th>pickup_latitude</th>\n",
       "      <th>dropoff_longitude</th>\n",
       "      <th>dropoff_latitude</th>\n",
       "      <th>passenger_count</th>\n",
       "      <th>year</th>\n",
       "      <th>month</th>\n",
       "      <th>date</th>\n",
       "      <th>day</th>\n",
       "      <th>hour</th>\n",
       "      <th>minute</th>\n",
       "      <th>distance</th>\n",
       "    </tr>\n",
       "  </thead>\n",
       "  <tbody>\n",
       "    <tr>\n",
       "      <th>0</th>\n",
       "      <td>4.5</td>\n",
       "      <td>2009-06-15 17:26:21</td>\n",
       "      <td>-73.844311</td>\n",
       "      <td>40.721319</td>\n",
       "      <td>-73.841610</td>\n",
       "      <td>40.712278</td>\n",
       "      <td>1.0</td>\n",
       "      <td>2009</td>\n",
       "      <td>6</td>\n",
       "      <td>15</td>\n",
       "      <td>0</td>\n",
       "      <td>17</td>\n",
       "      <td>26</td>\n",
       "      <td>1.030764</td>\n",
       "    </tr>\n",
       "    <tr>\n",
       "      <th>1</th>\n",
       "      <td>16.9</td>\n",
       "      <td>2010-01-05 16:52:16</td>\n",
       "      <td>-74.016048</td>\n",
       "      <td>40.711303</td>\n",
       "      <td>-73.979268</td>\n",
       "      <td>40.782004</td>\n",
       "      <td>1.0</td>\n",
       "      <td>2010</td>\n",
       "      <td>1</td>\n",
       "      <td>5</td>\n",
       "      <td>1</td>\n",
       "      <td>16</td>\n",
       "      <td>52</td>\n",
       "      <td>8.450134</td>\n",
       "    </tr>\n",
       "    <tr>\n",
       "      <th>2</th>\n",
       "      <td>5.7</td>\n",
       "      <td>2011-08-18 00:35:00</td>\n",
       "      <td>-73.982738</td>\n",
       "      <td>40.761270</td>\n",
       "      <td>-73.991242</td>\n",
       "      <td>40.750562</td>\n",
       "      <td>2.0</td>\n",
       "      <td>2011</td>\n",
       "      <td>8</td>\n",
       "      <td>18</td>\n",
       "      <td>3</td>\n",
       "      <td>0</td>\n",
       "      <td>35</td>\n",
       "      <td>1.389525</td>\n",
       "    </tr>\n",
       "    <tr>\n",
       "      <th>3</th>\n",
       "      <td>7.7</td>\n",
       "      <td>2012-04-21 04:30:42</td>\n",
       "      <td>-73.987130</td>\n",
       "      <td>40.733143</td>\n",
       "      <td>-73.991567</td>\n",
       "      <td>40.758092</td>\n",
       "      <td>1.0</td>\n",
       "      <td>2012</td>\n",
       "      <td>4</td>\n",
       "      <td>21</td>\n",
       "      <td>5</td>\n",
       "      <td>4</td>\n",
       "      <td>30</td>\n",
       "      <td>2.799270</td>\n",
       "    </tr>\n",
       "    <tr>\n",
       "      <th>4</th>\n",
       "      <td>5.3</td>\n",
       "      <td>2010-03-09 07:51:00</td>\n",
       "      <td>-73.968095</td>\n",
       "      <td>40.768008</td>\n",
       "      <td>-73.956655</td>\n",
       "      <td>40.783762</td>\n",
       "      <td>1.0</td>\n",
       "      <td>2010</td>\n",
       "      <td>3</td>\n",
       "      <td>9</td>\n",
       "      <td>1</td>\n",
       "      <td>7</td>\n",
       "      <td>51</td>\n",
       "      <td>1.999157</td>\n",
       "    </tr>\n",
       "  </tbody>\n",
       "</table>\n",
       "</div>"
      ],
      "text/plain": [
       "   fare_amount     pickup_datetime  pickup_longitude  pickup_latitude  \\\n",
       "0          4.5 2009-06-15 17:26:21        -73.844311        40.721319   \n",
       "1         16.9 2010-01-05 16:52:16        -74.016048        40.711303   \n",
       "2          5.7 2011-08-18 00:35:00        -73.982738        40.761270   \n",
       "3          7.7 2012-04-21 04:30:42        -73.987130        40.733143   \n",
       "4          5.3 2010-03-09 07:51:00        -73.968095        40.768008   \n",
       "\n",
       "   dropoff_longitude  dropoff_latitude  passenger_count  year  month  date  \\\n",
       "0         -73.841610         40.712278              1.0  2009      6    15   \n",
       "1         -73.979268         40.782004              1.0  2010      1     5   \n",
       "2         -73.991242         40.750562              2.0  2011      8    18   \n",
       "3         -73.991567         40.758092              1.0  2012      4    21   \n",
       "4         -73.956655         40.783762              1.0  2010      3     9   \n",
       "\n",
       "   day  hour  minute  distance  \n",
       "0    0    17      26  1.030764  \n",
       "1    1    16      52  8.450134  \n",
       "2    3     0      35  1.389525  \n",
       "3    5     4      30  2.799270  \n",
       "4    1     7      51  1.999157  "
      ]
     },
     "execution_count": 36,
     "metadata": {},
     "output_type": "execute_result"
    }
   ],
   "source": [
    "# Let's check our new derived feature names as distance\n",
    "\n",
    "train_cab.head()"
   ]
  },
  {
   "cell_type": "code",
   "execution_count": 37,
   "metadata": {},
   "outputs": [
    {
     "data": {
      "text/plain": [
       "9146     8667.542104\n",
       "8646     8667.497512\n",
       "2396     8667.454421\n",
       "472      8667.304968\n",
       "11652    8666.701504\n",
       "13339    8666.613646\n",
       "10214    8666.584706\n",
       "4596     8666.566030\n",
       "10457    8665.976222\n",
       "10671    8665.702390\n",
       "10487    8665.555634\n",
       "1260     8665.268588\n",
       "4277     8665.223767\n",
       "6187     8664.191488\n",
       "12982    8664.131808\n",
       "6301     8663.039123\n",
       "12704    8661.362152\n",
       "14196    8657.136619\n",
       "15782    8656.714168\n",
       "15748    6028.926779\n",
       "2279     6026.494216\n",
       "5863     5420.988959\n",
       "7013     4447.086698\n",
       "10709     129.950482\n",
       "14535     129.560455\n",
       "11618     127.509261\n",
       "12227     123.561157\n",
       "5662      101.094619\n",
       "1683       99.771579\n",
       "3074       97.985088\n",
       "            ...     \n",
       "7683        0.000000\n",
       "4297        0.000000\n",
       "13142       0.000000\n",
       "3127        0.000000\n",
       "8644        0.000000\n",
       "8376        0.000000\n",
       "4239        0.000000\n",
       "2446        0.000000\n",
       "4366        0.000000\n",
       "11564       0.000000\n",
       "13080       0.000000\n",
       "13061       0.000000\n",
       "4453        0.000000\n",
       "13012       0.000000\n",
       "13014       0.000000\n",
       "808         0.000000\n",
       "6461        0.000000\n",
       "799         0.000000\n",
       "4429        0.000000\n",
       "10782       0.000000\n",
       "13036       0.000000\n",
       "14484       0.000000\n",
       "15523       0.000000\n",
       "9341        0.000000\n",
       "13044       0.000000\n",
       "13049       0.000000\n",
       "11592       0.000000\n",
       "2345        0.000000\n",
       "8330        0.000000\n",
       "1636        0.000000\n",
       "Name: distance, Length: 15901, dtype: float64"
      ]
     },
     "execution_count": 37,
     "metadata": {},
     "output_type": "execute_result"
    }
   ],
   "source": [
    "# Its time to clear outliers in distance, if present any\n",
    "\n",
    "# Let's sort distance to get the idea\n",
    "\n",
    "train_cab['distance'].sort_values(ascending = False)\n",
    "\n",
    "# We can observe, we need to delete those observations having distance as > 129 and < 1"
   ]
  },
  {
   "cell_type": "code",
   "execution_count": 38,
   "metadata": {},
   "outputs": [],
   "source": [
    "# Line of code to delete the outliers in distance\n",
    "\n",
    "train_cab = train_cab.drop(((train_cab[train_cab['distance'] == 0]) & (train_cab[train_cab['distance'] > 130])).index, axis = 0)"
   ]
  },
  {
   "cell_type": "code",
   "execution_count": 39,
   "metadata": {},
   "outputs": [
    {
     "data": {
      "text/plain": [
       "10709    129.950482\n",
       "14535    129.560455\n",
       "11618    127.509261\n",
       "12227    123.561157\n",
       "5662     101.094619\n",
       "1683      99.771579\n",
       "3074      97.985088\n",
       "9898      97.670590\n",
       "4486      95.852036\n",
       "9807      93.925599\n",
       "7400      92.605848\n",
       "12348     43.648755\n",
       "649       39.476975\n",
       "6307      37.812945\n",
       "4117      32.602535\n",
       "7020      29.478280\n",
       "6676      26.369072\n",
       "4566      25.735917\n",
       "8104      24.690884\n",
       "15022     24.125745\n",
       "15177     23.814940\n",
       "14098     23.696200\n",
       "12432     23.513721\n",
       "4267      23.196680\n",
       "3215      23.184092\n",
       "4298      23.168706\n",
       "12940     23.114168\n",
       "13803     23.077267\n",
       "538       23.066627\n",
       "13597     23.037380\n",
       "            ...    \n",
       "6001       0.004982\n",
       "8772       0.004829\n",
       "15529      0.004709\n",
       "14529      0.004059\n",
       "184        0.003982\n",
       "8370       0.003434\n",
       "3644       0.003173\n",
       "14632      0.003069\n",
       "5592       0.003054\n",
       "14474      0.002842\n",
       "9927       0.002838\n",
       "1493       0.002733\n",
       "9011       0.002693\n",
       "4057       0.002687\n",
       "8733       0.002616\n",
       "616        0.002507\n",
       "10257      0.002235\n",
       "15369      0.002234\n",
       "8602       0.002232\n",
       "8595       0.002173\n",
       "10610      0.001960\n",
       "3557       0.000951\n",
       "4860       0.000848\n",
       "15092      0.000789\n",
       "8262       0.000476\n",
       "13487      0.000344\n",
       "510        0.000279\n",
       "15365      0.000238\n",
       "13581      0.000202\n",
       "15489      0.000111\n",
       "Name: distance, Length: 15424, dtype: float64"
      ]
     },
     "execution_count": 39,
     "metadata": {},
     "output_type": "execute_result"
    }
   ],
   "source": [
    "# Let's check whether the outliers are cleared\n",
    "\n",
    "train_cab['distance'].sort_values(ascending = False)"
   ]
  },
  {
   "cell_type": "code",
   "execution_count": 40,
   "metadata": {},
   "outputs": [
    {
     "name": "stdout",
     "output_type": "stream",
     "text": [
      "Index(['fare_amount', 'pickup_datetime', 'pickup_longitude', 'pickup_latitude',\n",
      "       'dropoff_longitude', 'dropoff_latitude', 'passenger_count', 'year',\n",
      "       'month', 'date', 'day', 'hour', 'minute', 'distance'],\n",
      "      dtype='object')\n",
      "Index(['fare_amount', 'passenger_count', 'year', 'month', 'date', 'day',\n",
      "       'hour', 'distance'],\n",
      "      dtype='object')\n"
     ]
    }
   ],
   "source": [
    "# Let's discuss about few points now\n",
    "\n",
    "# We almost cleaned our data, but now, let's question, are all these variables are useful to proceed further\n",
    "\n",
    "# We decided to delete pickup_datetime variables as we have substitutes of it and we are not dealing time series analysis\n",
    "\n",
    "# We also decided to remove pickup_longitude, pickup_latitude, dropoff_longitude, dropoff_latitude as we have distance\n",
    "\n",
    "print(train_cab.columns)\n",
    "\n",
    "deletefew = ['pickup_datetime', 'pickup_longitude', 'pickup_latitude', 'dropoff_longitude', 'dropoff_latitude', 'minute']\n",
    "\n",
    "train_cab = train_cab.drop(deletefew, axis = 1)\n",
    "\n",
    "print(train_cab.columns) # shows latest columns"
   ]
  },
  {
   "cell_type": "code",
   "execution_count": 41,
   "metadata": {},
   "outputs": [
    {
     "name": "stdout",
     "output_type": "stream",
     "text": [
      "fare_amount        float64\n",
      "passenger_count    float64\n",
      "year                 int64\n",
      "month                int64\n",
      "date                 int64\n",
      "day                  int64\n",
      "hour                 int64\n",
      "distance           float64\n",
      "dtype: object\n",
      "fare_amount        float64\n",
      "passenger_count      int64\n",
      "year                 int64\n",
      "month                int64\n",
      "date                 int64\n",
      "day                  int64\n",
      "hour                 int64\n",
      "distance           float64\n",
      "dtype: object\n"
     ]
    }
   ],
   "source": [
    "# Attempt to convert passenger_count to int64\n",
    "\n",
    "print(train_cab.dtypes)\n",
    "\n",
    "train_cab['passenger_count'] = train_cab['passenger_count'].astype('int64')\n",
    "\n",
    "print(train_cab.dtypes)"
   ]
  },
  {
   "cell_type": "code",
   "execution_count": 42,
   "metadata": {},
   "outputs": [],
   "source": [
    "# Storing continuous variables into num_var object \n",
    "\n",
    "num_var = ['fare_amount', 'distance']\n",
    "\n",
    "# Storing categorical variables into cat_var object\n",
    "\n",
    "cat_var = ['passenger_count', 'year', 'month', 'date', 'day', 'hour']"
   ]
  },
  {
   "cell_type": "markdown",
   "metadata": {},
   "source": [
    "## Jump into Visualizations"
   ]
  },
  {
   "cell_type": "code",
   "execution_count": 43,
   "metadata": {},
   "outputs": [
    {
     "data": {
      "image/png": "[encoded data removed]",
      "text/plain": [
       "<Figure size 720x360 with 1 Axes>"
      ]
     },
     "metadata": {
      "needs_background": "light"
     },
     "output_type": "display_data"
    },
    {
     "data": {
      "image/png": "[encoded data removed]",
      "text/plain": [
       "<Figure size 720x360 with 1 Axes>"
      ]
     },
     "metadata": {
      "needs_background": "light"
     },
     "output_type": "display_data"
    },
    {
     "data": {
      "image/png": "[encoded data removed]",
      "text/plain": [
       "<Figure size 720x360 with 1 Axes>"
      ]
     },
     "metadata": {
      "needs_background": "light"
     },
     "output_type": "display_data"
    },
    {
     "data": {
      "image/png": "[encoded data removed]",
      "text/plain": [
       "<Figure size 720x360 with 1 Axes>"
      ]
     },
     "metadata": {
      "needs_background": "light"
     },
     "output_type": "display_data"
    },
    {
     "data": {
      "image/png": "[encoded data removed]",
      "text/plain": [
       "<Figure size 720x360 with 1 Axes>"
      ]
     },
     "metadata": {
      "needs_background": "light"
     },
     "output_type": "display_data"
    },
    {
     "data": {
      "image/png": "[encoded data removed]",
      "text/plain": [
       "<Figure size 720x360 with 1 Axes>"
      ]
     },
     "metadata": {
      "needs_background": "light"
     },
     "output_type": "display_data"
    }
   ],
   "source": [
    "# Visualizations are the best part of a data science project. It talks a lot with simple presence\n",
    "\n",
    "# We have our dataset at its best format. Let's figure out how our independent variables vary with target variable\n",
    "\n",
    "# At first place, let's visualize the relationship between fare-amount and variables in cat_var\n",
    "\n",
    "for i in cat_var:\n",
    "    sns.catplot(x = i, y = \"fare_amount\", data=train_cab, height = 5, aspect = 2)\n",
    "    figname = str(i)+'.pdf'"
   ]
  },
  {
   "cell_type": "markdown",
   "metadata": {},
   "source": [
    "### Lets talk about the relationship of fare_amount and each variable\n",
    "### > Single passenger pays high fare and 6 passengers at once contributes less fare\n",
    "### > In 2011, the fare is at peak and in 2015 fare is at lowest\n",
    "### > March has high fare, july got low fare\n",
    "### > On monday, thursday and friday fare is high, remaining like, sunday has low fare\n",
    "### > Morning 7 am and night 10 pm are the expensive hours, 3 am and 12 pm are not expensive"
   ]
  },
  {
   "cell_type": "code",
   "execution_count": 44,
   "metadata": {},
   "outputs": [
    {
     "data": {
      "text/plain": [
       "<matplotlib.axes._subplots.AxesSubplot at 0x229103d5cc0>"
      ]
     },
     "execution_count": 44,
     "metadata": {},
     "output_type": "execute_result"
    },
    {
     "data": {
      "image/png": "[encoded data removed]",
      "text/plain": [
       "<Figure size 1152x576 with 1 Axes>"
      ]
     },
     "metadata": {
      "needs_background": "light"
     },
     "output_type": "display_data"
    }
   ],
   "source": [
    "# Let's see which passenger_count are the most frequent travellers\n",
    "\n",
    "plt.figure(figsize = (16,8))\n",
    "sns.countplot(x = 'passenger_count', data = train_cab)"
   ]
  },
  {
   "cell_type": "markdown",
   "metadata": {},
   "source": [
    "### Single Passengers are the most frequent travellers"
   ]
  },
  {
   "cell_type": "code",
   "execution_count": 45,
   "metadata": {},
   "outputs": [
    {
     "data": {
      "text/plain": [
       "<seaborn.axisgrid.FacetGrid at 0x2290df2a898>"
      ]
     },
     "execution_count": 45,
     "metadata": {},
     "output_type": "execute_result"
    },
    {
     "data": {
      "image/png": "[encoded data removed]",
      "text/plain": [
       "<Figure size 774.375x360 with 1 Axes>"
      ]
     },
     "metadata": {
      "needs_background": "light"
     },
     "output_type": "display_data"
    }
   ],
   "source": [
    "# Let's see how fare_amount varies with hour and day together\n",
    "\n",
    "sns.relplot(x=\"hour\", y=\"fare_amount\", hue=\"day\", data=train_cab, height = 5, aspect = 2)"
   ]
  },
  {
   "cell_type": "markdown",
   "metadata": {},
   "source": [
    "### The fare is highest, when hour is 7 am and 10 pm, and when days are Monday, Thursday and Friday"
   ]
  },
  {
   "cell_type": "markdown",
   "metadata": {},
   "source": [
    "## Time for Feature Selection"
   ]
  },
  {
   "cell_type": "code",
   "execution_count": 46,
   "metadata": {},
   "outputs": [
    {
     "name": "stdout",
     "output_type": "stream",
     "text": [
      "             fare_amount  distance\n",
      "fare_amount     1.000000  0.609284\n",
      "distance        0.609284  1.000000\n"
     ]
    }
   ],
   "source": [
    "# In Feature Selection, we perform Correlation Analysis and Anova test\n",
    "\n",
    "# It is done to find out the varaibles which carry the same information, and delete them before going for model development\n",
    "\n",
    "# Correlation Analysis is performed between num_var (numeirc independent variables) & fare-amount(continuous target variable)\n",
    "\n",
    "train_cab_cor = train_cab.loc[:, num_var]\n",
    "\n",
    "# line of code to generate the corrleation\n",
    "\n",
    "cor_result = train_cab_cor.corr()\n",
    "\n",
    "print(cor_result)"
   ]
  },
  {
   "cell_type": "code",
   "execution_count": 47,
   "metadata": {},
   "outputs": [
    {
     "data": {
      "image/png": "[encoded data removed]",
      "text/plain": [
       "<Figure size 432x288 with 2 Axes>"
      ]
     },
     "metadata": {
      "needs_background": "light"
     },
     "output_type": "display_data"
    }
   ],
   "source": [
    "# Heatmap between fare_amount and distance\n",
    "\n",
    "ax = sns.heatmap(cor_result, annot=True) "
   ]
  },
  {
   "cell_type": "code",
   "execution_count": 48,
   "metadata": {},
   "outputs": [
    {
     "name": "stdout",
     "output_type": "stream",
     "text": [
      "                       sum_sq       df         F    PR(>F)\n",
      "passenger_count  7.412790e+01      1.0  0.650559  0.419925\n",
      "Residual         1.757260e+06  15422.0       NaN       NaN\n",
      "                sum_sq       df           F        PR(>F)\n",
      "year      1.765442e+04      1.0  156.503813  9.795817e-36\n",
      "Residual  1.739680e+06  15422.0         NaN           NaN\n",
      "                sum_sq       df          F    PR(>F)\n",
      "month     2.393332e+03      1.0  21.032028  0.000005\n",
      "Residual  1.754941e+06  15422.0        NaN       NaN\n",
      "                sum_sq       df         F    PR(>F)\n",
      "date      1.051343e+02      1.0  0.922692  0.336784\n",
      "Residual  1.757229e+06  15422.0       NaN       NaN\n",
      "                sum_sq       df         F    PR(>F)\n",
      "day       6.935365e+00      1.0  0.060864  0.805139\n",
      "Residual  1.757327e+06  15422.0       NaN       NaN\n",
      "                sum_sq       df          F    PR(>F)\n",
      "hour      1.203834e+03      1.0  10.571838  0.001151\n",
      "Residual  1.756130e+06  15422.0        NaN       NaN\n"
     ]
    }
   ],
   "source": [
    "# Anova Test is performed between cat_var (categorical independent variables) & fare_amount(continuous target variable) \n",
    "\n",
    "import statsmodels.api as sm\n",
    "from statsmodels.formula.api import ols\n",
    "\n",
    "for i in cat_var:\n",
    "    mod = ols('fare_amount' + '~' + i, data = train_cab).fit()\n",
    "    aov_table = sm.stats.anova_lm(mod, typ = 2)\n",
    "    print(aov_table)"
   ]
  },
  {
   "cell_type": "code",
   "execution_count": 49,
   "metadata": {},
   "outputs": [
    {
     "name": "stdout",
     "output_type": "stream",
     "text": [
      "Index(['fare_amount', 'passenger_count', 'year', 'month', 'date', 'day',\n",
      "       'hour', 'distance'],\n",
      "      dtype='object')\n",
      "Index(['fare_amount', 'year', 'month', 'hour', 'distance'], dtype='object')\n"
     ]
    }
   ],
   "source": [
    "# In the above line of code, we found out that few variables have P value > 0.05 i.e. we accept null hypothesis\n",
    "\n",
    "# When we accept null hypothesis, we say, these variables shouldn't be carried for model development\n",
    "\n",
    "print(train_cab.columns)\n",
    "\n",
    "deletefew2 = ['passenger_count', 'date', 'day']\n",
    "\n",
    "train_cab = train_cab.drop(deletefew2, axis = 1)\n",
    "\n",
    "print(train_cab.columns)"
   ]
  },
  {
   "cell_type": "code",
   "execution_count": 50,
   "metadata": {},
   "outputs": [],
   "source": [
    "# Storing latest categorical variables into cat_var object\n",
    "\n",
    "cat_var = ['year', 'month', 'hour']"
   ]
  },
  {
   "cell_type": "markdown",
   "metadata": {},
   "source": [
    "## Get into Feature Scaling"
   ]
  },
  {
   "cell_type": "code",
   "execution_count": 51,
   "metadata": {},
   "outputs": [
    {
     "name": "stderr",
     "output_type": "stream",
     "text": [
      "C:\\Users\\Purushottam\\Anaconda3\\lib\\site-packages\\scipy\\stats\\stats.py:1713: FutureWarning: Using a non-tuple sequence for multidimensional indexing is deprecated; use `arr[tuple(seq)]` instead of `arr[seq]`. In the future this will be interpreted as an array index, `arr[np.array(seq)]`, which will result either in an error or a different result.\n",
      "  return np.add.reduce(sorted[indexer] * weights, axis=axis) / sumval\n"
     ]
    },
    {
     "data": {
      "image/png": "[encoded data removed]",
      "text/plain": [
       "<Figure size 432x288 with 1 Axes>"
      ]
     },
     "metadata": {
      "needs_background": "light"
     },
     "output_type": "display_data"
    }
   ],
   "source": [
    "# We shall check for normality for distance. Let's first check about the skewness of the distance variable\n",
    "\n",
    "sns.distplot(train_cab['distance'],bins='auto',color='black')\n",
    "plt.title(\"Distribution for Variable \"+i)\n",
    "plt.ylabel(\"Density\")\n",
    "plt.show()\n",
    "\n",
    "# We can observe, the variable is left skewed."
   ]
  },
  {
   "cell_type": "code",
   "execution_count": 52,
   "metadata": {},
   "outputs": [],
   "source": [
    "# Using log function to reduce the skewness in distance\n",
    "\n",
    "train_cab['distance'] = np.log(train_cab['distance'])"
   ]
  },
  {
   "cell_type": "code",
   "execution_count": 53,
   "metadata": {},
   "outputs": [
    {
     "data": {
      "image/png": "[encoded data removed]",
      "text/plain": [
       "<Figure size 432x288 with 1 Axes>"
      ]
     },
     "metadata": {
      "needs_background": "light"
     },
     "output_type": "display_data"
    }
   ],
   "source": [
    "# We shall check for normality again\n",
    "\n",
    "sns.distplot(train_cab['distance'],bins='auto',color='black')\n",
    "plt.title(\"Distribution for Variable \"+i)\n",
    "plt.ylabel(\"Density\")\n",
    "plt.show()\n",
    "\n",
    "# We can observe now, after applying log function, the data is normalised"
   ]
  },
  {
   "cell_type": "markdown",
   "metadata": {},
   "source": [
    "## Here we are - MODEL DEVELOPMENT"
   ]
  },
  {
   "cell_type": "code",
   "execution_count": 54,
   "metadata": {},
   "outputs": [],
   "source": [
    "# Exploratory data analysis, missing value and outlier analysis, feature selection, feature scaling is done. Data is ready\n",
    "\n",
    "# Its a regression problem. So, we are starting with Linear Regression\n",
    "\n",
    "# It will be followed by Decision Tree, then Random Forest, then tuning Hyperparameters\n",
    "\n",
    "# # Let's create a copy of data for further reference\n",
    "\n",
    "train_cab2 = train_cab.copy()\n",
    "train_cab = train_cab2.copy()"
   ]
  },
  {
   "cell_type": "code",
   "execution_count": 56,
   "metadata": {},
   "outputs": [],
   "source": [
    "# Now, let's import few libraries, required for model development\n",
    "\n",
    "from sklearn.model_selection import train_test_split #used to split dataset into train and test\n",
    "from sklearn.metrics import mean_squared_error # used to calculate MSE\n",
    "from sklearn.metrics import r2_score # used to calculate r square\n",
    "from sklearn.linear_model import LinearRegression # Machine Algorithm \n",
    "from sklearn.tree import DecisionTreeRegressor # Machine Algorithm \n",
    "from sklearn.ensemble import RandomForestRegressor # Machine Algorithm \n",
    "from pprint import pprint # used in tuning \n",
    "from sklearn.model_selection import GridSearchCV # used to tune hyper parameters  \n",
    "from sklearn.model_selection import RandomizedSearchCV # used to tune hyper parameters \n",
    "from math import sqrt"
   ]
  },
  {
   "cell_type": "code",
   "execution_count": 57,
   "metadata": {},
   "outputs": [],
   "source": [
    "# Before going for model development, we need to split the data into train data and test data.\n",
    "\n",
    "X_train, X_test, y_train, y_test = train_test_split(train_cab.iloc[:, train_cab.columns != 'fare_amount'],\n",
    "                                                   train_cab.iloc[:, 0], test_size = 0.20, random_state = 1)"
   ]
  },
  {
   "cell_type": "markdown",
   "metadata": {},
   "source": [
    "### Linear Regression"
   ]
  },
  {
   "cell_type": "code",
   "execution_count": 58,
   "metadata": {},
   "outputs": [
    {
     "name": "stdout",
     "output_type": "stream",
     "text": [
      "RMSE for train data = 9.264227551993713\n",
      "RMSE for test data = 6.219814989887592\n",
      "Rsquare for train data = 0.3057507904124328\n",
      "Rsquare for test data = 0.4843001126743429\n"
     ]
    }
   ],
   "source": [
    "# Building LRModel on training data\n",
    "LRModel = LinearRegression().fit(X_train, y_train)\n",
    "\n",
    "# Predicting LRModel on train data\n",
    "LRTrain = LRModel.predict(X_train)\n",
    "\n",
    "# Predicting LRModel on test data\n",
    "LRTest = LRModel.predict(X_test)\n",
    "\n",
    "# Calculating RMSE for train data\n",
    "LRTrain_RMSE = np.sqrt(mean_squared_error(y_train, LRTrain))\n",
    "print('RMSE for train data = ' +str(LRTrain_RMSE))\n",
    "\n",
    "# Calculating RMSE for test data\n",
    "LRTest_RMSE = np.sqrt(mean_squared_error(y_test, LRTest))\n",
    "print('RMSE for test data = ' +str(LRTest_RMSE))\n",
    "\n",
    "# Calculating Rsquare for train data\n",
    "LRTrain_rsquare = r2_score(y_train, LRTrain)\n",
    "print('Rsquare for train data = ' +str(LRTrain_rsquare))\n",
    "\n",
    "# Calculating Rsquare for test data\n",
    "LRTest_rsquare = r2_score(y_test, LRTest)\n",
    "print('Rsquare for test data = ' +str(LRTest_rsquare))"
   ]
  },
  {
   "cell_type": "markdown",
   "metadata": {},
   "source": [
    "### Decision Tree"
   ]
  },
  {
   "cell_type": "code",
   "execution_count": 59,
   "metadata": {},
   "outputs": [
    {
     "name": "stdout",
     "output_type": "stream",
     "text": [
      "RMSE for train data = 7.6015436393085505\n",
      "RMSE for test data = 4.504301201426911\n",
      "Rsquare for train data = 0.5325872525943498\n",
      "Rsquare for test data = 0.7295437941743977\n"
     ]
    }
   ],
   "source": [
    "# Building DTModel on training data\n",
    "DTModel = DecisionTreeRegressor(max_depth = 2).fit(X_train, y_train)\n",
    "\n",
    "# Predicting DTModel on train data\n",
    "DTTrain = DTModel.predict(X_train)\n",
    "\n",
    "# Predicting DTModel on test data\n",
    "DTTest = DTModel.predict(X_test)\n",
    "\n",
    "# Calculating RMSE for train data\n",
    "DTTrain_RMSE = np.sqrt(mean_squared_error(y_train, DTTrain))\n",
    "print('RMSE for train data = ' +str(DTTrain_RMSE))\n",
    "\n",
    "# Calculating RMSE for test data\n",
    "DTTest_RMSE = np.sqrt(mean_squared_error(y_test, DTTest))\n",
    "print('RMSE for test data = ' +str(DTTest_RMSE))\n",
    "\n",
    "# Calculating Rsquare for train data\n",
    "DTTrain_rsquare = r2_score(y_train, DTTrain)\n",
    "print('Rsquare for train data = ' +str(DTTrain_rsquare))\n",
    "\n",
    "# Calculating Rsquare for test data\n",
    "DTTest_rsquare = r2_score(y_test, DTTest)\n",
    "print('Rsquare for test data = ' +str(DTTest_rsquare))"
   ]
  },
  {
   "cell_type": "markdown",
   "metadata": {},
   "source": [
    "### Random Forest"
   ]
  },
  {
   "cell_type": "code",
   "execution_count": 60,
   "metadata": {},
   "outputs": [
    {
     "name": "stdout",
     "output_type": "stream",
     "text": [
      "RMSE for train data = 2.939819266900513\n",
      "RMSE for test data = 3.890833217190048\n",
      "Rsquare for train data = 0.9300901725901756\n",
      "Rsquare for test data = 0.7981971325019972\n"
     ]
    }
   ],
   "source": [
    "# Building RFModel on training data\n",
    "RFModel = RandomForestRegressor(n_estimators = 200).fit(X_train, y_train)\n",
    "\n",
    "# Predicting RFModel on train data\n",
    "RFTrain = RFModel.predict(X_train)\n",
    "\n",
    "# Predicting RFModel on test data\n",
    "RFTest = RFModel.predict(X_test)\n",
    "\n",
    "# Calculating RMSE for train data\n",
    "RFTrain_RMSE = np.sqrt(mean_squared_error(y_train, RFTrain))\n",
    "print('RMSE for train data = ' +str(RFTrain_RMSE))\n",
    "\n",
    "# Calculating RMSE for test data\n",
    "RFTest_RMSE = np.sqrt(mean_squared_error(y_test, RFTest))\n",
    "print('RMSE for test data = ' +str(RFTest_RMSE))\n",
    "\n",
    "# Calculating Rsquare for train data\n",
    "RFTrain_rsquare = r2_score(y_train, RFTrain)\n",
    "print('Rsquare for train data = ' +str(RFTrain_rsquare))\n",
    "\n",
    "# Calculating Rsquare for test data\n",
    "RFTest_rsquare = r2_score(y_test, RFTest)\n",
    "print('Rsquare for test data = ' +str(RFTest_rsquare))"
   ]
  },
  {
   "cell_type": "markdown",
   "metadata": {},
   "source": [
    "### Parameters tuning to optimize the results"
   ]
  },
  {
   "cell_type": "code",
   "execution_count": 61,
   "metadata": {},
   "outputs": [
    {
     "name": "stdout",
     "output_type": "stream",
     "text": [
      "parameters in use:\n",
      "\n",
      "{'bootstrap': True,\n",
      " 'criterion': 'mse',\n",
      " 'max_depth': None,\n",
      " 'max_features': 'auto',\n",
      " 'max_leaf_nodes': None,\n",
      " 'min_impurity_decrease': 0.0,\n",
      " 'min_impurity_split': None,\n",
      " 'min_samples_leaf': 1,\n",
      " 'min_samples_split': 2,\n",
      " 'min_weight_fraction_leaf': 0.0,\n",
      " 'n_estimators': 'warn',\n",
      " 'n_jobs': None,\n",
      " 'oob_score': False,\n",
      " 'random_state': 42,\n",
      " 'verbose': 0,\n",
      " 'warm_start': False}\n"
     ]
    }
   ],
   "source": [
    "# We started the parameter tuning journey with RandomizedSearchCV\n",
    "\n",
    "rf = RandomForestRegressor(random_state = 42)\n",
    "print('parameters in use:\\n')\n",
    "pprint(rf.get_params())"
   ]
  },
  {
   "cell_type": "code",
   "execution_count": 62,
   "metadata": {},
   "outputs": [
    {
     "name": "stdout",
     "output_type": "stream",
     "text": [
      "Randomized Search CV Result:\n",
      "Best Parameters = {'n_estimators': 15, 'max_depth': 9}\n",
      "R-Squared = 0.8.\n",
      "RMSE =  3.8873663314404117\n"
     ]
    }
   ],
   "source": [
    "# Building RandomizedSearchCV\n",
    "RRF = RandomForestRegressor(random_state = 0)\n",
    "\n",
    "# Create grid\n",
    "ran_sear = {'n_estimators': list(range(1,20,2)),\n",
    "           'max_depth': list(range(1,100,2))}\n",
    "\n",
    "randcv_rf = RandomizedSearchCV(RRF, param_distributions = ran_sear, n_iter = 5, cv = 5, random_state = 0)\n",
    "\n",
    "randcv_rf = randcv_rf.fit(X_train, y_train)\n",
    "view_best_params_RRF = randcv_rf.best_params_\n",
    "\n",
    "#Apply model on test data\n",
    "predictions_RRF = randcv_rf.predict(X_test)\n",
    "\n",
    "# Calculating Rsquare\n",
    "RRF_rsquare = r2_score(y_test, predictions_RRF)\n",
    "\n",
    "# Calculating RMSE\n",
    "RRF_RMSE = np.sqrt(mean_squared_error(y_test, predictions_RRF))\n",
    "\n",
    "print('Randomized Search CV Result:')\n",
    "print('Best Parameters =', view_best_params_RRF)\n",
    "print('R-Squared = {:0.2}.'.format(RRF_rsquare))\n",
    "print('RMSE = ' ,RRF_RMSE)"
   ]
  },
  {
   "cell_type": "code",
   "execution_count": 63,
   "metadata": {},
   "outputs": [
    {
     "name": "stdout",
     "output_type": "stream",
     "text": [
      "Grid Search CV Random Forest Regressor Model Performance:\n",
      "Best Parameters =  {'max_depth': 5, 'n_estimators': 11}\n",
      "R-squared = 0.8.\n",
      "RMSE =  3.830759661692142\n"
     ]
    }
   ],
   "source": [
    "# Building GridSearchCV\n",
    "GRF = RandomForestRegressor(random_state = 0)\n",
    "\n",
    "# Create grid\n",
    "ran_sear2 = {'n_estimators': list(range(1,20,2)),\n",
    "           'max_depth': list(range(1,10,2))}\n",
    "\n",
    "gridcv_rf = GridSearchCV(GRF, param_grid = ran_sear2, cv = 5)\n",
    "gridcv_rf = gridcv_rf.fit(X_train, y_train)\n",
    "view_best_params_GRF = gridcv_rf.best_params_\n",
    "\n",
    "#Apply model on test data\n",
    "predictions_GRF = gridcv_rf.predict(X_test)\n",
    "\n",
    "# Rsquare\n",
    "GRF_rsquare = r2_score(y_test, predictions_GRF)\n",
    "\n",
    "#Calculating RMSE\n",
    "GRF_RMSE = np.sqrt(mean_squared_error(y_test, predictions_GRF))\n",
    "\n",
    "print('Grid Search CV Random Forest Regressor Model Performance:')\n",
    "print('Best Parameters = ',view_best_params_GRF)\n",
    "print('R-squared = {:0.2}.'.format(GRF_rsquare))\n",
    "print('RMSE = ',(GRF_RMSE))"
   ]
  },
  {
   "cell_type": "code",
   "execution_count": 64,
   "metadata": {},
   "outputs": [
    {
     "data": {
      "text/html": [
       "<div>\n",
       "<style scoped>\n",
       "    .dataframe tbody tr th:only-of-type {\n",
       "        vertical-align: middle;\n",
       "    }\n",
       "\n",
       "    .dataframe tbody tr th {\n",
       "        vertical-align: top;\n",
       "    }\n",
       "\n",
       "    .dataframe thead th {\n",
       "        text-align: right;\n",
       "    }\n",
       "</style>\n",
       "<table border=\"1\" class=\"dataframe\">\n",
       "  <thead>\n",
       "    <tr style=\"text-align: right;\">\n",
       "      <th></th>\n",
       "      <th>RMSE</th>\n",
       "      <th>Rsquare</th>\n",
       "    </tr>\n",
       "  </thead>\n",
       "  <tbody>\n",
       "    <tr>\n",
       "      <th>Linear Regression</th>\n",
       "      <td>6.219815</td>\n",
       "      <td>0.484300</td>\n",
       "    </tr>\n",
       "    <tr>\n",
       "      <th>Decision Tree</th>\n",
       "      <td>4.504301</td>\n",
       "      <td>0.729544</td>\n",
       "    </tr>\n",
       "    <tr>\n",
       "      <th>Random Forest</th>\n",
       "      <td>3.890833</td>\n",
       "      <td>0.798197</td>\n",
       "    </tr>\n",
       "    <tr>\n",
       "      <th>RandomizedSearch CV</th>\n",
       "      <td>3.887366</td>\n",
       "      <td>0.798557</td>\n",
       "    </tr>\n",
       "    <tr>\n",
       "      <th>GridSearch CV</th>\n",
       "      <td>3.830760</td>\n",
       "      <td>0.804381</td>\n",
       "    </tr>\n",
       "  </tbody>\n",
       "</table>\n",
       "</div>"
      ],
      "text/plain": [
       "                         RMSE   Rsquare\n",
       "Linear Regression    6.219815  0.484300\n",
       "Decision Tree        4.504301  0.729544\n",
       "Random Forest        3.890833  0.798197\n",
       "RandomizedSearch CV  3.887366  0.798557\n",
       "GridSearch CV        3.830760  0.804381"
      ]
     },
     "execution_count": 64,
     "metadata": {},
     "output_type": "execute_result"
    }
   ],
   "source": [
    "data = {'RMSE':[LRTest_RMSE, DTTest_RMSE, RFTest_RMSE, RRF_RMSE, GRF_RMSE], 'Rsquare':[LRTest_rsquare, DTTest_rsquare, RFTest_rsquare, RRF_rsquare, GRF_rsquare]}\n",
    "\n",
    "df = pd.DataFrame(data, index = ['Linear Regression', 'Decision Tree', 'Random Forest', 'RandomizedSearch CV', 'GridSearch CV'])\n",
    "\n",
    "df"
   ]
  },
  {
   "cell_type": "markdown",
   "metadata": {},
   "source": [
    "### Now, we are going to select GridSearchCV Model as its R2 and RMSE values are the best optimized\n",
    "\n",
    "### The final case here is, we are given with a test data. We have to predict the target variable values of the test data given.\n",
    "\n",
    "### We will go through the same steps which we did for our train_cab dataset, and finally we will predict the target variable values using GridSearchCV Model."
   ]
  },
  {
   "cell_type": "code",
   "execution_count": 65,
   "metadata": {},
   "outputs": [],
   "source": [
    "# Importing the test data into Jupyter Environment\n",
    "\n",
    "test_cab = pd.read_csv(\"test.csv\")"
   ]
  },
  {
   "cell_type": "code",
   "execution_count": 66,
   "metadata": {},
   "outputs": [
    {
     "data": {
      "text/html": [
       "<div>\n",
       "<style scoped>\n",
       "    .dataframe tbody tr th:only-of-type {\n",
       "        vertical-align: middle;\n",
       "    }\n",
       "\n",
       "    .dataframe tbody tr th {\n",
       "        vertical-align: top;\n",
       "    }\n",
       "\n",
       "    .dataframe thead th {\n",
       "        text-align: right;\n",
       "    }\n",
       "</style>\n",
       "<table border=\"1\" class=\"dataframe\">\n",
       "  <thead>\n",
       "    <tr style=\"text-align: right;\">\n",
       "      <th></th>\n",
       "      <th>pickup_datetime</th>\n",
       "      <th>pickup_longitude</th>\n",
       "      <th>pickup_latitude</th>\n",
       "      <th>dropoff_longitude</th>\n",
       "      <th>dropoff_latitude</th>\n",
       "      <th>passenger_count</th>\n",
       "    </tr>\n",
       "  </thead>\n",
       "  <tbody>\n",
       "    <tr>\n",
       "      <th>0</th>\n",
       "      <td>2015-01-27 13:08:24 UTC</td>\n",
       "      <td>-73.973320</td>\n",
       "      <td>40.763805</td>\n",
       "      <td>-73.981430</td>\n",
       "      <td>40.743835</td>\n",
       "      <td>1</td>\n",
       "    </tr>\n",
       "    <tr>\n",
       "      <th>1</th>\n",
       "      <td>2015-01-27 13:08:24 UTC</td>\n",
       "      <td>-73.986862</td>\n",
       "      <td>40.719383</td>\n",
       "      <td>-73.998886</td>\n",
       "      <td>40.739201</td>\n",
       "      <td>1</td>\n",
       "    </tr>\n",
       "    <tr>\n",
       "      <th>2</th>\n",
       "      <td>2011-10-08 11:53:44 UTC</td>\n",
       "      <td>-73.982524</td>\n",
       "      <td>40.751260</td>\n",
       "      <td>-73.979654</td>\n",
       "      <td>40.746139</td>\n",
       "      <td>1</td>\n",
       "    </tr>\n",
       "    <tr>\n",
       "      <th>3</th>\n",
       "      <td>2012-12-01 21:12:12 UTC</td>\n",
       "      <td>-73.981160</td>\n",
       "      <td>40.767807</td>\n",
       "      <td>-73.990448</td>\n",
       "      <td>40.751635</td>\n",
       "      <td>1</td>\n",
       "    </tr>\n",
       "    <tr>\n",
       "      <th>4</th>\n",
       "      <td>2012-12-01 21:12:12 UTC</td>\n",
       "      <td>-73.966046</td>\n",
       "      <td>40.789775</td>\n",
       "      <td>-73.988565</td>\n",
       "      <td>40.744427</td>\n",
       "      <td>1</td>\n",
       "    </tr>\n",
       "  </tbody>\n",
       "</table>\n",
       "</div>"
      ],
      "text/plain": [
       "           pickup_datetime  pickup_longitude  pickup_latitude  \\\n",
       "0  2015-01-27 13:08:24 UTC        -73.973320        40.763805   \n",
       "1  2015-01-27 13:08:24 UTC        -73.986862        40.719383   \n",
       "2  2011-10-08 11:53:44 UTC        -73.982524        40.751260   \n",
       "3  2012-12-01 21:12:12 UTC        -73.981160        40.767807   \n",
       "4  2012-12-01 21:12:12 UTC        -73.966046        40.789775   \n",
       "\n",
       "   dropoff_longitude  dropoff_latitude  passenger_count  \n",
       "0         -73.981430         40.743835                1  \n",
       "1         -73.998886         40.739201                1  \n",
       "2         -73.979654         40.746139                1  \n",
       "3         -73.990448         40.751635                1  \n",
       "4         -73.988565         40.744427                1  "
      ]
     },
     "execution_count": 66,
     "metadata": {},
     "output_type": "execute_result"
    }
   ],
   "source": [
    "# Viewing first 5 observations of our new data\n",
    "\n",
    "test_cab.head()"
   ]
  },
  {
   "cell_type": "code",
   "execution_count": 67,
   "metadata": {},
   "outputs": [
    {
     "data": {
      "text/plain": [
       "(9914, 6)"
      ]
     },
     "execution_count": 67,
     "metadata": {},
     "output_type": "execute_result"
    }
   ],
   "source": [
    "# Checking total number of observations and variables\n",
    "\n",
    "test_cab.shape"
   ]
  },
  {
   "cell_type": "code",
   "execution_count": 68,
   "metadata": {},
   "outputs": [
    {
     "data": {
      "text/plain": [
       "pandas.core.frame.DataFrame"
      ]
     },
     "execution_count": 68,
     "metadata": {},
     "output_type": "execute_result"
    }
   ],
   "source": [
    "# Knowing the type of our data\n",
    "\n",
    "type(test_cab)"
   ]
  },
  {
   "cell_type": "code",
   "execution_count": 69,
   "metadata": {},
   "outputs": [
    {
     "data": {
      "text/plain": [
       "pickup_datetime       object\n",
       "pickup_longitude     float64\n",
       "pickup_latitude      float64\n",
       "dropoff_longitude    float64\n",
       "dropoff_latitude     float64\n",
       "passenger_count        int64\n",
       "dtype: object"
      ]
     },
     "execution_count": 69,
     "metadata": {},
     "output_type": "execute_result"
    }
   ],
   "source": [
    "# Knowing the datatypes of our predictors\n",
    "\n",
    "test_cab.dtypes"
   ]
  },
  {
   "cell_type": "code",
   "execution_count": 70,
   "metadata": {},
   "outputs": [],
   "source": [
    "# Next, we shall go for converting our fare_amount variable from object to numeric data type\n",
    "\n",
    "test_cab['pickup_datetime'] =  pd.to_datetime(test_cab['pickup_datetime'], format='%Y-%m-%d %H:%M:%S UTC')"
   ]
  },
  {
   "cell_type": "code",
   "execution_count": 71,
   "metadata": {},
   "outputs": [
    {
     "data": {
      "text/plain": [
       "pickup_datetime      datetime64[ns]\n",
       "pickup_longitude            float64\n",
       "pickup_latitude             float64\n",
       "dropoff_longitude           float64\n",
       "dropoff_latitude            float64\n",
       "passenger_count               int64\n",
       "dtype: object"
      ]
     },
     "execution_count": 71,
     "metadata": {},
     "output_type": "execute_result"
    }
   ],
   "source": [
    "test_cab.dtypes"
   ]
  },
  {
   "cell_type": "code",
   "execution_count": 72,
   "metadata": {},
   "outputs": [],
   "source": [
    "# We are given with datetime varibale, however, we have no idea how to deal with it in a regression problem.\n",
    "\n",
    "# We took help in google and found out we can separate datetime variable into year, month, date, day, hour, minute.\n",
    "\n",
    "# Here's the code to split datetime variable\n",
    "\n",
    "test_cab['year'] = test_cab['pickup_datetime'].dt.year\n",
    "test_cab['month'] = test_cab['pickup_datetime'].dt.month\n",
    "test_cab['date'] = test_cab['pickup_datetime'].dt.day\n",
    "test_cab['day'] = test_cab['pickup_datetime'].dt.dayofweek\n",
    "test_cab['hour'] = test_cab['pickup_datetime'].dt.hour\n",
    "test_cab['minute'] = test_cab['pickup_datetime'].dt.minute"
   ]
  },
  {
   "cell_type": "code",
   "execution_count": 73,
   "metadata": {},
   "outputs": [
    {
     "data": {
      "text/plain": [
       "pickup_datetime      datetime64[ns]\n",
       "pickup_longitude            float64\n",
       "pickup_latitude             float64\n",
       "dropoff_longitude           float64\n",
       "dropoff_latitude            float64\n",
       "passenger_count               int64\n",
       "year                          int64\n",
       "month                         int64\n",
       "date                          int64\n",
       "day                           int64\n",
       "hour                          int64\n",
       "minute                        int64\n",
       "dtype: object"
      ]
     },
     "execution_count": 73,
     "metadata": {},
     "output_type": "execute_result"
    }
   ],
   "source": [
    "# Let's check our new varibales\n",
    "\n",
    "test_cab.dtypes"
   ]
  },
  {
   "cell_type": "code",
   "execution_count": 74,
   "metadata": {},
   "outputs": [
    {
     "data": {
      "text/html": [
       "<div>\n",
       "<style scoped>\n",
       "    .dataframe tbody tr th:only-of-type {\n",
       "        vertical-align: middle;\n",
       "    }\n",
       "\n",
       "    .dataframe tbody tr th {\n",
       "        vertical-align: top;\n",
       "    }\n",
       "\n",
       "    .dataframe thead th {\n",
       "        text-align: right;\n",
       "    }\n",
       "</style>\n",
       "<table border=\"1\" class=\"dataframe\">\n",
       "  <thead>\n",
       "    <tr style=\"text-align: right;\">\n",
       "      <th></th>\n",
       "      <th>pickup_datetime</th>\n",
       "      <th>pickup_longitude</th>\n",
       "      <th>pickup_latitude</th>\n",
       "      <th>dropoff_longitude</th>\n",
       "      <th>dropoff_latitude</th>\n",
       "      <th>passenger_count</th>\n",
       "      <th>year</th>\n",
       "      <th>month</th>\n",
       "      <th>date</th>\n",
       "      <th>day</th>\n",
       "      <th>hour</th>\n",
       "      <th>minute</th>\n",
       "    </tr>\n",
       "  </thead>\n",
       "  <tbody>\n",
       "    <tr>\n",
       "      <th>0</th>\n",
       "      <td>2015-01-27 13:08:24</td>\n",
       "      <td>-73.973320</td>\n",
       "      <td>40.763805</td>\n",
       "      <td>-73.981430</td>\n",
       "      <td>40.743835</td>\n",
       "      <td>1</td>\n",
       "      <td>2015</td>\n",
       "      <td>1</td>\n",
       "      <td>27</td>\n",
       "      <td>1</td>\n",
       "      <td>13</td>\n",
       "      <td>8</td>\n",
       "    </tr>\n",
       "    <tr>\n",
       "      <th>1</th>\n",
       "      <td>2015-01-27 13:08:24</td>\n",
       "      <td>-73.986862</td>\n",
       "      <td>40.719383</td>\n",
       "      <td>-73.998886</td>\n",
       "      <td>40.739201</td>\n",
       "      <td>1</td>\n",
       "      <td>2015</td>\n",
       "      <td>1</td>\n",
       "      <td>27</td>\n",
       "      <td>1</td>\n",
       "      <td>13</td>\n",
       "      <td>8</td>\n",
       "    </tr>\n",
       "    <tr>\n",
       "      <th>2</th>\n",
       "      <td>2011-10-08 11:53:44</td>\n",
       "      <td>-73.982524</td>\n",
       "      <td>40.751260</td>\n",
       "      <td>-73.979654</td>\n",
       "      <td>40.746139</td>\n",
       "      <td>1</td>\n",
       "      <td>2011</td>\n",
       "      <td>10</td>\n",
       "      <td>8</td>\n",
       "      <td>5</td>\n",
       "      <td>11</td>\n",
       "      <td>53</td>\n",
       "    </tr>\n",
       "    <tr>\n",
       "      <th>3</th>\n",
       "      <td>2012-12-01 21:12:12</td>\n",
       "      <td>-73.981160</td>\n",
       "      <td>40.767807</td>\n",
       "      <td>-73.990448</td>\n",
       "      <td>40.751635</td>\n",
       "      <td>1</td>\n",
       "      <td>2012</td>\n",
       "      <td>12</td>\n",
       "      <td>1</td>\n",
       "      <td>5</td>\n",
       "      <td>21</td>\n",
       "      <td>12</td>\n",
       "    </tr>\n",
       "    <tr>\n",
       "      <th>4</th>\n",
       "      <td>2012-12-01 21:12:12</td>\n",
       "      <td>-73.966046</td>\n",
       "      <td>40.789775</td>\n",
       "      <td>-73.988565</td>\n",
       "      <td>40.744427</td>\n",
       "      <td>1</td>\n",
       "      <td>2012</td>\n",
       "      <td>12</td>\n",
       "      <td>1</td>\n",
       "      <td>5</td>\n",
       "      <td>21</td>\n",
       "      <td>12</td>\n",
       "    </tr>\n",
       "  </tbody>\n",
       "</table>\n",
       "</div>"
      ],
      "text/plain": [
       "      pickup_datetime  pickup_longitude  pickup_latitude  dropoff_longitude  \\\n",
       "0 2015-01-27 13:08:24        -73.973320        40.763805         -73.981430   \n",
       "1 2015-01-27 13:08:24        -73.986862        40.719383         -73.998886   \n",
       "2 2011-10-08 11:53:44        -73.982524        40.751260         -73.979654   \n",
       "3 2012-12-01 21:12:12        -73.981160        40.767807         -73.990448   \n",
       "4 2012-12-01 21:12:12        -73.966046        40.789775         -73.988565   \n",
       "\n",
       "   dropoff_latitude  passenger_count  year  month  date  day  hour  minute  \n",
       "0         40.743835                1  2015      1    27    1    13       8  \n",
       "1         40.739201                1  2015      1    27    1    13       8  \n",
       "2         40.746139                1  2011     10     8    5    11      53  \n",
       "3         40.751635                1  2012     12     1    5    21      12  \n",
       "4         40.744427                1  2012     12     1    5    21      12  "
      ]
     },
     "execution_count": 74,
     "metadata": {},
     "output_type": "execute_result"
    }
   ],
   "source": [
    "# Here's the view about our data with new variables\n",
    "\n",
    "test_cab.head()"
   ]
  },
  {
   "cell_type": "code",
   "execution_count": 75,
   "metadata": {},
   "outputs": [
    {
     "data": {
      "text/plain": [
       "pickup_datetime      0\n",
       "pickup_longitude     0\n",
       "pickup_latitude      0\n",
       "dropoff_longitude    0\n",
       "dropoff_latitude     0\n",
       "passenger_count      0\n",
       "year                 0\n",
       "month                0\n",
       "date                 0\n",
       "day                  0\n",
       "hour                 0\n",
       "minute               0\n",
       "dtype: int64"
      ]
     },
     "execution_count": 75,
     "metadata": {},
     "output_type": "execute_result"
    }
   ],
   "source": [
    "# Total number of missing values in our dataset variables\n",
    "\n",
    "test_cab.isnull().sum()"
   ]
  },
  {
   "cell_type": "code",
   "execution_count": 76,
   "metadata": {},
   "outputs": [
    {
     "data": {
      "text/html": [
       "<div>\n",
       "<style scoped>\n",
       "    .dataframe tbody tr th:only-of-type {\n",
       "        vertical-align: middle;\n",
       "    }\n",
       "\n",
       "    .dataframe tbody tr th {\n",
       "        vertical-align: top;\n",
       "    }\n",
       "\n",
       "    .dataframe thead th {\n",
       "        text-align: right;\n",
       "    }\n",
       "</style>\n",
       "<table border=\"1\" class=\"dataframe\">\n",
       "  <thead>\n",
       "    <tr style=\"text-align: right;\">\n",
       "      <th></th>\n",
       "      <th>pickup_datetime</th>\n",
       "      <th>pickup_longitude</th>\n",
       "      <th>pickup_latitude</th>\n",
       "      <th>dropoff_longitude</th>\n",
       "      <th>dropoff_latitude</th>\n",
       "      <th>passenger_count</th>\n",
       "      <th>year</th>\n",
       "      <th>month</th>\n",
       "      <th>date</th>\n",
       "      <th>day</th>\n",
       "      <th>hour</th>\n",
       "      <th>minute</th>\n",
       "    </tr>\n",
       "  </thead>\n",
       "  <tbody>\n",
       "  </tbody>\n",
       "</table>\n",
       "</div>"
      ],
      "text/plain": [
       "Empty DataFrame\n",
       "Columns: [pickup_datetime, pickup_longitude, pickup_latitude, dropoff_longitude, dropoff_latitude, passenger_count, year, month, date, day, hour, minute]\n",
       "Index: []"
      ]
     },
     "execution_count": 76,
     "metadata": {},
     "output_type": "execute_result"
    }
   ],
   "source": [
    "# Here we are, let's go ahead with finding missing values in pickup_longitude\n",
    "\n",
    "# It's time to learn what are the values, that are not accepted in longitude range.\n",
    "\n",
    "# From Google, its clear, longitude values should be -180 to +180\n",
    "\n",
    "test_cab[test_cab['pickup_longitude'] < -180]\n",
    "test_cab[test_cab['pickup_longitude'] > +180]\n",
    "\n",
    "# We can observe there's no outliers in pickup_longitude"
   ]
  },
  {
   "cell_type": "code",
   "execution_count": 77,
   "metadata": {},
   "outputs": [
    {
     "data": {
      "text/html": [
       "<div>\n",
       "<style scoped>\n",
       "    .dataframe tbody tr th:only-of-type {\n",
       "        vertical-align: middle;\n",
       "    }\n",
       "\n",
       "    .dataframe tbody tr th {\n",
       "        vertical-align: top;\n",
       "    }\n",
       "\n",
       "    .dataframe thead th {\n",
       "        text-align: right;\n",
       "    }\n",
       "</style>\n",
       "<table border=\"1\" class=\"dataframe\">\n",
       "  <thead>\n",
       "    <tr style=\"text-align: right;\">\n",
       "      <th></th>\n",
       "      <th>pickup_datetime</th>\n",
       "      <th>pickup_longitude</th>\n",
       "      <th>pickup_latitude</th>\n",
       "      <th>dropoff_longitude</th>\n",
       "      <th>dropoff_latitude</th>\n",
       "      <th>passenger_count</th>\n",
       "      <th>year</th>\n",
       "      <th>month</th>\n",
       "      <th>date</th>\n",
       "      <th>day</th>\n",
       "      <th>hour</th>\n",
       "      <th>minute</th>\n",
       "    </tr>\n",
       "  </thead>\n",
       "  <tbody>\n",
       "  </tbody>\n",
       "</table>\n",
       "</div>"
      ],
      "text/plain": [
       "Empty DataFrame\n",
       "Columns: [pickup_datetime, pickup_longitude, pickup_latitude, dropoff_longitude, dropoff_latitude, passenger_count, year, month, date, day, hour, minute]\n",
       "Index: []"
      ]
     },
     "execution_count": 77,
     "metadata": {},
     "output_type": "execute_result"
    }
   ],
   "source": [
    "# We shall do the same as above for pickup_latitude, and remember, latitude should be -90 to +90\n",
    "\n",
    "test_cab[test_cab['pickup_latitude'] < -90]\n",
    "test_cab[test_cab['pickup_latitude'] > +90]"
   ]
  },
  {
   "cell_type": "code",
   "execution_count": 78,
   "metadata": {},
   "outputs": [
    {
     "data": {
      "text/html": [
       "<div>\n",
       "<style scoped>\n",
       "    .dataframe tbody tr th:only-of-type {\n",
       "        vertical-align: middle;\n",
       "    }\n",
       "\n",
       "    .dataframe tbody tr th {\n",
       "        vertical-align: top;\n",
       "    }\n",
       "\n",
       "    .dataframe thead th {\n",
       "        text-align: right;\n",
       "    }\n",
       "</style>\n",
       "<table border=\"1\" class=\"dataframe\">\n",
       "  <thead>\n",
       "    <tr style=\"text-align: right;\">\n",
       "      <th></th>\n",
       "      <th>pickup_datetime</th>\n",
       "      <th>pickup_longitude</th>\n",
       "      <th>pickup_latitude</th>\n",
       "      <th>dropoff_longitude</th>\n",
       "      <th>dropoff_latitude</th>\n",
       "      <th>passenger_count</th>\n",
       "      <th>year</th>\n",
       "      <th>month</th>\n",
       "      <th>date</th>\n",
       "      <th>day</th>\n",
       "      <th>hour</th>\n",
       "      <th>minute</th>\n",
       "    </tr>\n",
       "  </thead>\n",
       "  <tbody>\n",
       "  </tbody>\n",
       "</table>\n",
       "</div>"
      ],
      "text/plain": [
       "Empty DataFrame\n",
       "Columns: [pickup_datetime, pickup_longitude, pickup_latitude, dropoff_longitude, dropoff_latitude, passenger_count, year, month, date, day, hour, minute]\n",
       "Index: []"
      ]
     },
     "execution_count": 78,
     "metadata": {},
     "output_type": "execute_result"
    }
   ],
   "source": [
    "# Time to do the same as above for dropoff_longitude\n",
    "\n",
    "test_cab[test_cab['dropoff_longitude'] < -180]\n",
    "test_cab[test_cab['dropoff_longitude'] > +180]\n",
    "\n",
    "# We can observe there's no outliers in dropoff_longitude"
   ]
  },
  {
   "cell_type": "code",
   "execution_count": 79,
   "metadata": {},
   "outputs": [
    {
     "data": {
      "text/html": [
       "<div>\n",
       "<style scoped>\n",
       "    .dataframe tbody tr th:only-of-type {\n",
       "        vertical-align: middle;\n",
       "    }\n",
       "\n",
       "    .dataframe tbody tr th {\n",
       "        vertical-align: top;\n",
       "    }\n",
       "\n",
       "    .dataframe thead th {\n",
       "        text-align: right;\n",
       "    }\n",
       "</style>\n",
       "<table border=\"1\" class=\"dataframe\">\n",
       "  <thead>\n",
       "    <tr style=\"text-align: right;\">\n",
       "      <th></th>\n",
       "      <th>pickup_datetime</th>\n",
       "      <th>pickup_longitude</th>\n",
       "      <th>pickup_latitude</th>\n",
       "      <th>dropoff_longitude</th>\n",
       "      <th>dropoff_latitude</th>\n",
       "      <th>passenger_count</th>\n",
       "      <th>year</th>\n",
       "      <th>month</th>\n",
       "      <th>date</th>\n",
       "      <th>day</th>\n",
       "      <th>hour</th>\n",
       "      <th>minute</th>\n",
       "    </tr>\n",
       "  </thead>\n",
       "  <tbody>\n",
       "  </tbody>\n",
       "</table>\n",
       "</div>"
      ],
      "text/plain": [
       "Empty DataFrame\n",
       "Columns: [pickup_datetime, pickup_longitude, pickup_latitude, dropoff_longitude, dropoff_latitude, passenger_count, year, month, date, day, hour, minute]\n",
       "Index: []"
      ]
     },
     "execution_count": 79,
     "metadata": {},
     "output_type": "execute_result"
    }
   ],
   "source": [
    "# Time to do the same as above for dropoff_latitude\n",
    "\n",
    "test_cab[test_cab['dropoff_latitude'] < -90]\n",
    "test_cab[test_cab['dropoff_latitude'] > +90]\n",
    "\n",
    "# We can observe there's no outliers in dropoff_latitude"
   ]
  },
  {
   "cell_type": "code",
   "execution_count": 80,
   "metadata": {},
   "outputs": [
    {
     "data": {
      "text/plain": [
       "9913    6\n",
       "9780    6\n",
       "9800    6\n",
       "9799    6\n",
       "9798    6\n",
       "9797    6\n",
       "9796    6\n",
       "9795    6\n",
       "9794    6\n",
       "9793    6\n",
       "9792    6\n",
       "9791    6\n",
       "9790    6\n",
       "9789    6\n",
       "9788    6\n",
       "9787    6\n",
       "9786    6\n",
       "9785    6\n",
       "9784    6\n",
       "9783    6\n",
       "9782    6\n",
       "9801    6\n",
       "9802    6\n",
       "9803    6\n",
       "9814    6\n",
       "9822    6\n",
       "9821    6\n",
       "9820    6\n",
       "9819    6\n",
       "9818    6\n",
       "       ..\n",
       "4642    1\n",
       "4643    1\n",
       "4620    1\n",
       "4618    1\n",
       "4593    1\n",
       "4617    1\n",
       "4594    1\n",
       "4595    1\n",
       "4596    1\n",
       "4597    1\n",
       "4598    1\n",
       "4599    1\n",
       "4600    1\n",
       "4601    1\n",
       "4602    1\n",
       "4603    1\n",
       "4604    1\n",
       "4605    1\n",
       "4606    1\n",
       "4607    1\n",
       "4608    1\n",
       "4609    1\n",
       "4610    1\n",
       "4611    1\n",
       "4612    1\n",
       "4613    1\n",
       "4614    1\n",
       "4615    1\n",
       "4616    1\n",
       "0       1\n",
       "Name: passenger_count, Length: 9914, dtype: int64"
      ]
     },
     "execution_count": 80,
     "metadata": {},
     "output_type": "execute_result"
    }
   ],
   "source": [
    "# Put our hands on passenger_count outliers\n",
    "\n",
    "test_cab['passenger_count'].sort_values(ascending = False)"
   ]
  },
  {
   "cell_type": "code",
   "execution_count": 81,
   "metadata": {},
   "outputs": [],
   "source": [
    "# Here's a multi-million dollar question - how to deal with data when given with latitude and longitude values?\n",
    "\n",
    "# Finally from Google, we learnt that, we can use Havsersine Formlua to calculate distance from the values\n",
    "\n",
    "# Importing math library to perform some calculations\n",
    "\n",
    "import math\n",
    "\n",
    "def haversine(a):\n",
    "    lon1 = a[0]\n",
    "    lat1 = a[1]\n",
    "    lon2 = a[2]\n",
    "    lat2 = a[3]\n",
    "    \"\"\"\n",
    "    Calculate the great circle distance between two points \n",
    "    on the earth (specified in decimal degrees).\n",
    "    Source: https://gis.stackexchange.com/a/56589/15183\n",
    "    \"\"\"\n",
    "    # convert decimal degrees to radians \n",
    "    \n",
    "    lon1, lat1, lon2, lat2 = map(math.radians, [lon1, lat1, lon2, lat2])\n",
    "    \n",
    "    # Haversine formula \n",
    "    \n",
    "    dlon = lon2 - lon1 \n",
    "    \n",
    "    dlat = lat2 - lat1 \n",
    "    \n",
    "    a = math.sin(dlat/2)**2 + math.cos(lat1) * math.cos(lat2) * math.sin(dlon/2)**2\n",
    "    \n",
    "    c = 2 * math.asin(math.sqrt(a)) \n",
    "    \n",
    "    km = 6371 * c\n",
    "    \n",
    "    return km"
   ]
  },
  {
   "cell_type": "code",
   "execution_count": 82,
   "metadata": {},
   "outputs": [],
   "source": [
    "# Time to create a new variable using the above Havsersine function\n",
    "\n",
    "# The process we are experiencing now, can be coined as - FEATURE ENGINEERING - deriving new variables from existing ones\n",
    "\n",
    "test_cab['distance'] = test_cab[['pickup_longitude', 'pickup_latitude', 'dropoff_longitude', 'dropoff_latitude']].apply(haversine, axis = 1)"
   ]
  },
  {
   "cell_type": "code",
   "execution_count": 83,
   "metadata": {},
   "outputs": [
    {
     "data": {
      "text/html": [
       "<div>\n",
       "<style scoped>\n",
       "    .dataframe tbody tr th:only-of-type {\n",
       "        vertical-align: middle;\n",
       "    }\n",
       "\n",
       "    .dataframe tbody tr th {\n",
       "        vertical-align: top;\n",
       "    }\n",
       "\n",
       "    .dataframe thead th {\n",
       "        text-align: right;\n",
       "    }\n",
       "</style>\n",
       "<table border=\"1\" class=\"dataframe\">\n",
       "  <thead>\n",
       "    <tr style=\"text-align: right;\">\n",
       "      <th></th>\n",
       "      <th>pickup_datetime</th>\n",
       "      <th>pickup_longitude</th>\n",
       "      <th>pickup_latitude</th>\n",
       "      <th>dropoff_longitude</th>\n",
       "      <th>dropoff_latitude</th>\n",
       "      <th>passenger_count</th>\n",
       "      <th>year</th>\n",
       "      <th>month</th>\n",
       "      <th>date</th>\n",
       "      <th>day</th>\n",
       "      <th>hour</th>\n",
       "      <th>minute</th>\n",
       "      <th>distance</th>\n",
       "    </tr>\n",
       "  </thead>\n",
       "  <tbody>\n",
       "    <tr>\n",
       "      <th>0</th>\n",
       "      <td>2015-01-27 13:08:24</td>\n",
       "      <td>-73.973320</td>\n",
       "      <td>40.763805</td>\n",
       "      <td>-73.981430</td>\n",
       "      <td>40.743835</td>\n",
       "      <td>1</td>\n",
       "      <td>2015</td>\n",
       "      <td>1</td>\n",
       "      <td>27</td>\n",
       "      <td>1</td>\n",
       "      <td>13</td>\n",
       "      <td>8</td>\n",
       "      <td>2.323259</td>\n",
       "    </tr>\n",
       "    <tr>\n",
       "      <th>1</th>\n",
       "      <td>2015-01-27 13:08:24</td>\n",
       "      <td>-73.986862</td>\n",
       "      <td>40.719383</td>\n",
       "      <td>-73.998886</td>\n",
       "      <td>40.739201</td>\n",
       "      <td>1</td>\n",
       "      <td>2015</td>\n",
       "      <td>1</td>\n",
       "      <td>27</td>\n",
       "      <td>1</td>\n",
       "      <td>13</td>\n",
       "      <td>8</td>\n",
       "      <td>2.425353</td>\n",
       "    </tr>\n",
       "    <tr>\n",
       "      <th>2</th>\n",
       "      <td>2011-10-08 11:53:44</td>\n",
       "      <td>-73.982524</td>\n",
       "      <td>40.751260</td>\n",
       "      <td>-73.979654</td>\n",
       "      <td>40.746139</td>\n",
       "      <td>1</td>\n",
       "      <td>2011</td>\n",
       "      <td>10</td>\n",
       "      <td>8</td>\n",
       "      <td>5</td>\n",
       "      <td>11</td>\n",
       "      <td>53</td>\n",
       "      <td>0.618628</td>\n",
       "    </tr>\n",
       "    <tr>\n",
       "      <th>3</th>\n",
       "      <td>2012-12-01 21:12:12</td>\n",
       "      <td>-73.981160</td>\n",
       "      <td>40.767807</td>\n",
       "      <td>-73.990448</td>\n",
       "      <td>40.751635</td>\n",
       "      <td>1</td>\n",
       "      <td>2012</td>\n",
       "      <td>12</td>\n",
       "      <td>1</td>\n",
       "      <td>5</td>\n",
       "      <td>21</td>\n",
       "      <td>12</td>\n",
       "      <td>1.961033</td>\n",
       "    </tr>\n",
       "    <tr>\n",
       "      <th>4</th>\n",
       "      <td>2012-12-01 21:12:12</td>\n",
       "      <td>-73.966046</td>\n",
       "      <td>40.789775</td>\n",
       "      <td>-73.988565</td>\n",
       "      <td>40.744427</td>\n",
       "      <td>1</td>\n",
       "      <td>2012</td>\n",
       "      <td>12</td>\n",
       "      <td>1</td>\n",
       "      <td>5</td>\n",
       "      <td>21</td>\n",
       "      <td>12</td>\n",
       "      <td>5.387301</td>\n",
       "    </tr>\n",
       "  </tbody>\n",
       "</table>\n",
       "</div>"
      ],
      "text/plain": [
       "      pickup_datetime  pickup_longitude  pickup_latitude  dropoff_longitude  \\\n",
       "0 2015-01-27 13:08:24        -73.973320        40.763805         -73.981430   \n",
       "1 2015-01-27 13:08:24        -73.986862        40.719383         -73.998886   \n",
       "2 2011-10-08 11:53:44        -73.982524        40.751260         -73.979654   \n",
       "3 2012-12-01 21:12:12        -73.981160        40.767807         -73.990448   \n",
       "4 2012-12-01 21:12:12        -73.966046        40.789775         -73.988565   \n",
       "\n",
       "   dropoff_latitude  passenger_count  year  month  date  day  hour  minute  \\\n",
       "0         40.743835                1  2015      1    27    1    13       8   \n",
       "1         40.739201                1  2015      1    27    1    13       8   \n",
       "2         40.746139                1  2011     10     8    5    11      53   \n",
       "3         40.751635                1  2012     12     1    5    21      12   \n",
       "4         40.744427                1  2012     12     1    5    21      12   \n",
       "\n",
       "   distance  \n",
       "0  2.323259  \n",
       "1  2.425353  \n",
       "2  0.618628  \n",
       "3  1.961033  \n",
       "4  5.387301  "
      ]
     },
     "execution_count": 83,
     "metadata": {},
     "output_type": "execute_result"
    }
   ],
   "source": [
    "# Let's check our new derived feature names as distance\n",
    "\n",
    "test_cab.head()"
   ]
  },
  {
   "cell_type": "code",
   "execution_count": 84,
   "metadata": {},
   "outputs": [
    {
     "data": {
      "text/plain": [
       "4080    99.996040\n",
       "8529    98.192419\n",
       "5887    97.240975\n",
       "7269    33.604366\n",
       "4334    28.837177\n",
       "3569    27.863332\n",
       "5115    27.653128\n",
       "9391    27.287881\n",
       "4864    27.169511\n",
       "706     25.565980\n",
       "2487    25.364627\n",
       "5865    23.443658\n",
       "5357    23.120250\n",
       "5905    23.099448\n",
       "2175    23.051119\n",
       "8173    22.640229\n",
       "7787    22.474632\n",
       "2718    22.407984\n",
       "248     22.344419\n",
       "5373    22.132067\n",
       "8825    22.113966\n",
       "7346    22.080922\n",
       "6260    22.064573\n",
       "628     21.880433\n",
       "5523    21.880030\n",
       "7000    21.845869\n",
       "8876    21.811484\n",
       "8944    21.785143\n",
       "7857    21.782684\n",
       "4018    21.738063\n",
       "          ...    \n",
       "121      0.000000\n",
       "2641     0.000000\n",
       "1218     0.000000\n",
       "1429     0.000000\n",
       "7839     0.000000\n",
       "451      0.000000\n",
       "981      0.000000\n",
       "2675     0.000000\n",
       "1409     0.000000\n",
       "7874     0.000000\n",
       "6954     0.000000\n",
       "976      0.000000\n",
       "2618     0.000000\n",
       "498      0.000000\n",
       "5443     0.000000\n",
       "8426     0.000000\n",
       "8424     0.000000\n",
       "491      0.000000\n",
       "318      0.000000\n",
       "1189     0.000000\n",
       "2247     0.000000\n",
       "2936     0.000000\n",
       "6157     0.000000\n",
       "9221     0.000000\n",
       "860      0.000000\n",
       "8835     0.000000\n",
       "943      0.000000\n",
       "2258     0.000000\n",
       "7637     0.000000\n",
       "6335     0.000000\n",
       "Name: distance, Length: 9914, dtype: float64"
      ]
     },
     "execution_count": 84,
     "metadata": {},
     "output_type": "execute_result"
    }
   ],
   "source": [
    "# Its time to clear outliers in distance, if present any\n",
    "\n",
    "# Let's sort distance to get the idea\n",
    "\n",
    "test_cab['distance'].sort_values(ascending = False)\n",
    "\n",
    "# We can observe, we need to delete those observations having distance < 1"
   ]
  },
  {
   "cell_type": "code",
   "execution_count": 85,
   "metadata": {},
   "outputs": [],
   "source": [
    "# Line of code to delete the outliers in distance\n",
    "\n",
    "test_cab = test_cab.drop(test_cab[test_cab['distance'] == 0].index, axis = 0)"
   ]
  },
  {
   "cell_type": "code",
   "execution_count": 86,
   "metadata": {},
   "outputs": [
    {
     "data": {
      "text/plain": [
       "4080    99.996040\n",
       "8529    98.192419\n",
       "5887    97.240975\n",
       "7269    33.604366\n",
       "4334    28.837177\n",
       "3569    27.863332\n",
       "5115    27.653128\n",
       "9391    27.287881\n",
       "4864    27.169511\n",
       "706     25.565980\n",
       "2487    25.364627\n",
       "5865    23.443658\n",
       "5357    23.120250\n",
       "5905    23.099448\n",
       "2175    23.051119\n",
       "8173    22.640229\n",
       "7787    22.474632\n",
       "2718    22.407984\n",
       "248     22.344419\n",
       "5373    22.132067\n",
       "8825    22.113966\n",
       "7346    22.080922\n",
       "6260    22.064573\n",
       "628     21.880433\n",
       "5523    21.880030\n",
       "7000    21.845869\n",
       "8876    21.811484\n",
       "8944    21.785143\n",
       "7857    21.782684\n",
       "4018    21.738063\n",
       "          ...    \n",
       "7039     0.057109\n",
       "1686     0.055740\n",
       "7723     0.055065\n",
       "6005     0.050825\n",
       "4523     0.049704\n",
       "2364     0.049493\n",
       "7731     0.049473\n",
       "2988     0.042502\n",
       "9827     0.036522\n",
       "4786     0.035839\n",
       "4023     0.035212\n",
       "1928     0.035158\n",
       "545      0.034713\n",
       "4676     0.031828\n",
       "3656     0.030301\n",
       "8175     0.029933\n",
       "7719     0.025309\n",
       "104      0.025130\n",
       "7068     0.024403\n",
       "9367     0.023768\n",
       "2974     0.014678\n",
       "3233     0.014187\n",
       "5669     0.012239\n",
       "525      0.009642\n",
       "4608     0.008512\n",
       "7966     0.007370\n",
       "6230     0.003598\n",
       "6901     0.002657\n",
       "2513     0.002166\n",
       "352      0.001486\n",
       "Name: distance, Length: 9829, dtype: float64"
      ]
     },
     "execution_count": 86,
     "metadata": {},
     "output_type": "execute_result"
    }
   ],
   "source": [
    "# Let's check whether the outliers are cleared\n",
    "\n",
    "test_cab['distance'].sort_values(ascending = False)"
   ]
  },
  {
   "cell_type": "code",
   "execution_count": 87,
   "metadata": {},
   "outputs": [
    {
     "name": "stdout",
     "output_type": "stream",
     "text": [
      "Index(['pickup_datetime', 'pickup_longitude', 'pickup_latitude',\n",
      "       'dropoff_longitude', 'dropoff_latitude', 'passenger_count', 'year',\n",
      "       'month', 'date', 'day', 'hour', 'minute', 'distance'],\n",
      "      dtype='object')\n",
      "Index(['passenger_count', 'year', 'month', 'date', 'day', 'hour', 'distance'], dtype='object')\n"
     ]
    }
   ],
   "source": [
    "# Let's discuss about few points now\n",
    "\n",
    "# We almost cleaned our data, but now, let's question, are all these variables are useful to proceed further\n",
    "\n",
    "# We decided to delete pickup_datetime variables as we have substitutes of it and we are not dealing time series analysis\n",
    "\n",
    "# We also decided to remove pickup_longitude, pickup_latitude, dropoff_longitude, dropoff_latitude as we have distance\n",
    "\n",
    "print(test_cab.columns)\n",
    "\n",
    "deletefew = ['pickup_datetime', 'pickup_longitude', 'pickup_latitude', 'dropoff_longitude', 'dropoff_latitude', 'minute']\n",
    "\n",
    "test_cab = test_cab.drop(deletefew, axis = 1)\n",
    "\n",
    "print(test_cab.columns) # shows latest columns"
   ]
  },
  {
   "cell_type": "code",
   "execution_count": 88,
   "metadata": {},
   "outputs": [
    {
     "name": "stdout",
     "output_type": "stream",
     "text": [
      "Index(['passenger_count', 'year', 'month', 'date', 'day', 'hour', 'distance'], dtype='object')\n",
      "Index(['year', 'month', 'hour', 'distance'], dtype='object')\n"
     ]
    }
   ],
   "source": [
    "# We are going for this step because, during model development, we deleted few varaibles based on anova test\n",
    "\n",
    "# The variables in the test case should exactly match with the variables in the trained model \n",
    "\n",
    "print(test_cab.columns)\n",
    "\n",
    "deletefew3 = ['passenger_count', 'date', 'day']\n",
    "\n",
    "test_cab = test_cab.drop(deletefew3, axis = 1)\n",
    "\n",
    "print(test_cab.columns)"
   ]
  },
  {
   "cell_type": "code",
   "execution_count": 89,
   "metadata": {},
   "outputs": [
    {
     "name": "stderr",
     "output_type": "stream",
     "text": [
      "C:\\Users\\Purushottam\\Anaconda3\\lib\\site-packages\\scipy\\stats\\stats.py:1713: FutureWarning: Using a non-tuple sequence for multidimensional indexing is deprecated; use `arr[tuple(seq)]` instead of `arr[seq]`. In the future this will be interpreted as an array index, `arr[np.array(seq)]`, which will result either in an error or a different result.\n",
      "  return np.add.reduce(sorted[indexer] * weights, axis=axis) / sumval\n"
     ]
    },
    {
     "data": {
      "image/png": "[encoded data removed]",
      "text/plain": [
       "<Figure size 432x288 with 1 Axes>"
      ]
     },
     "metadata": {
      "needs_background": "light"
     },
     "output_type": "display_data"
    }
   ],
   "source": [
    "# Normalizing distance variable \n",
    "\n",
    "# We shall check for normality for distance. Let's first check about the skewness of the distance variable\n",
    "\n",
    "sns.distplot(test_cab['distance'],bins='auto',color='black')\n",
    "plt.title(\"Distribution for Variable \"+i)\n",
    "plt.ylabel(\"Density\")\n",
    "plt.show()\n",
    "\n",
    "# We can observe, the variable is left skewed."
   ]
  },
  {
   "cell_type": "code",
   "execution_count": 90,
   "metadata": {},
   "outputs": [],
   "source": [
    "# Using log function to reduce the skewness in distance\n",
    "\n",
    "test_cab['distance'] = np.log(test_cab['distance'])"
   ]
  },
  {
   "cell_type": "code",
   "execution_count": 91,
   "metadata": {},
   "outputs": [
    {
     "data": {
      "image/png": "[encoded data removed]",
      "text/plain": [
       "<Figure size 432x288 with 1 Axes>"
      ]
     },
     "metadata": {
      "needs_background": "light"
     },
     "output_type": "display_data"
    }
   ],
   "source": [
    "# We shall check for normality again\n",
    "\n",
    "sns.distplot(test_cab['distance'],bins='auto',color='black')\n",
    "plt.title(\"Distribution for Variable \"+i)\n",
    "plt.ylabel(\"Density\")\n",
    "plt.show()\n",
    "\n",
    "# We can observe now, after applying log function, the data is normalised"
   ]
  },
  {
   "cell_type": "markdown",
   "metadata": {},
   "source": [
    "## Here we go for obtaining the predicted values on our test data"
   ]
  },
  {
   "cell_type": "code",
   "execution_count": 92,
   "metadata": {},
   "outputs": [],
   "source": [
    "# We are going to use RandomizedSearchCV Model as it gave the best results while training model\n",
    "\n",
    "# Building GridSearchCV\n",
    "\n",
    "GRF = RandomForestRegressor(random_state = 0)\n",
    "\n",
    "# Create grid\n",
    "ran_sear2 = {'n_estimators': list(range(1,20,2)),\n",
    "           'max_depth': list(range(1,10,2))}\n",
    "\n",
    "gridcv_rf = GridSearchCV(GRF, param_grid = ran_sear2, cv = 5)\n",
    "gridcv_rf = gridcv_rf.fit(X_train, y_train)\n",
    "view_best_params_GRF = gridcv_rf.best_params_\n",
    "\n",
    "#Apply model on test data\n",
    "predictions_GRF = gridcv_rf.predict(test_cab)"
   ]
  },
  {
   "cell_type": "code",
   "execution_count": 93,
   "metadata": {},
   "outputs": [],
   "source": [
    "# Fianlly creating new variable - Predicted Fare Amount\n",
    "\n",
    "test_cab['Predicted fare_amount'] = predictions_GRF"
   ]
  },
  {
   "cell_type": "code",
   "execution_count": 95,
   "metadata": {},
   "outputs": [
    {
     "data": {
      "text/html": [
       "<div>\n",
       "<style scoped>\n",
       "    .dataframe tbody tr th:only-of-type {\n",
       "        vertical-align: middle;\n",
       "    }\n",
       "\n",
       "    .dataframe tbody tr th {\n",
       "        vertical-align: top;\n",
       "    }\n",
       "\n",
       "    .dataframe thead th {\n",
       "        text-align: right;\n",
       "    }\n",
       "</style>\n",
       "<table border=\"1\" class=\"dataframe\">\n",
       "  <thead>\n",
       "    <tr style=\"text-align: right;\">\n",
       "      <th></th>\n",
       "      <th>year</th>\n",
       "      <th>month</th>\n",
       "      <th>hour</th>\n",
       "      <th>distance</th>\n",
       "      <th>Predicted fare_amount</th>\n",
       "    </tr>\n",
       "  </thead>\n",
       "  <tbody>\n",
       "    <tr>\n",
       "      <th>0</th>\n",
       "      <td>2015</td>\n",
       "      <td>1</td>\n",
       "      <td>13</td>\n",
       "      <td>0.842971</td>\n",
       "      <td>9.062778</td>\n",
       "    </tr>\n",
       "    <tr>\n",
       "      <th>1</th>\n",
       "      <td>2015</td>\n",
       "      <td>1</td>\n",
       "      <td>13</td>\n",
       "      <td>0.885977</td>\n",
       "      <td>9.325481</td>\n",
       "    </tr>\n",
       "    <tr>\n",
       "      <th>2</th>\n",
       "      <td>2011</td>\n",
       "      <td>10</td>\n",
       "      <td>11</td>\n",
       "      <td>-0.480251</td>\n",
       "      <td>5.476132</td>\n",
       "    </tr>\n",
       "    <tr>\n",
       "      <th>3</th>\n",
       "      <td>2012</td>\n",
       "      <td>12</td>\n",
       "      <td>21</td>\n",
       "      <td>0.673471</td>\n",
       "      <td>8.595973</td>\n",
       "    </tr>\n",
       "    <tr>\n",
       "      <th>4</th>\n",
       "      <td>2012</td>\n",
       "      <td>12</td>\n",
       "      <td>21</td>\n",
       "      <td>1.684045</td>\n",
       "      <td>14.408911</td>\n",
       "    </tr>\n",
       "  </tbody>\n",
       "</table>\n",
       "</div>"
      ],
      "text/plain": [
       "   year  month  hour  distance  Predicted fare_amount\n",
       "0  2015      1    13  0.842971               9.062778\n",
       "1  2015      1    13  0.885977               9.325481\n",
       "2  2011     10    11 -0.480251               5.476132\n",
       "3  2012     12    21  0.673471               8.595973\n",
       "4  2012     12    21  1.684045              14.408911"
      ]
     },
     "execution_count": 95,
     "metadata": {},
     "output_type": "execute_result"
    }
   ],
   "source": [
    "# Here's the output. It's a great journey \n",
    "\n",
    "test_cab.head()"
   ]
  },
  {
   "cell_type": "markdown",
   "metadata": {},
   "source": [
    "# Finally our objective is achieved. We have designed an analytics model and we used that model to predict the fare amount."
   ]
  }
 ],
 "metadata": {
  "kernelspec": {
   "display_name": "Python 3",
   "language": "python",
   "name": "python3"
  },
  "language_info": {
   "codemirror_mode": {
    "name": "ipython",
    "version": 3
   },
   "file_extension": ".py",
   "mimetype": "text/x-python",
   "name": "python",
   "nbconvert_exporter": "python",
   "pygments_lexer": "ipython3",
   "version": "3.7.1"
  }
 },
 "nbformat": 4,
 "nbformat_minor": 2
}
